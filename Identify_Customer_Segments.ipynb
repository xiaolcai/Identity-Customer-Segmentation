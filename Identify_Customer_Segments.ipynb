{
 "cells": [
  {
   "cell_type": "markdown",
   "metadata": {},
   "source": [
    "# Project: Identify Customer Segments\n",
    "\n",
    "In this project, you will apply unsupervised learning techniques to identify segments of the population that form the core customer base for a mail-order sales company in Germany. These segments can then be used to direct marketing campaigns towards audiences that will have the highest expected rate of returns. The data that you will use has been provided by our partners at Bertelsmann Arvato Analytics, and represents a real-life data science task.\n",
    "\n",
    "This notebook will help you complete this task by providing a framework within which you will perform your analysis steps. In each step of the project, you will see some text describing the subtask that you will perform, followed by one or more code cells for you to complete your work. **Feel free to add additional code and markdown cells as you go along so that you can explore everything in precise chunks.** The code cells provided in the base template will outline only the major tasks, and will usually not be enough to cover all of the minor tasks that comprise it.\n",
    "\n",
    "It should be noted that while there will be precise guidelines on how you should handle certain tasks in the project, there will also be places where an exact specification is not provided. **There will be times in the project where you will need to make and justify your own decisions on how to treat the data.** These are places where there may not be only one way to handle the data. In real-life tasks, there may be many valid ways to approach an analysis task. One of the most important things you can do is clearly document your approach so that other scientists can understand the decisions you've made.\n",
    "\n",
    "At the end of most sections, there will be a Markdown cell labeled **Discussion**. In these cells, you will report your findings for the completed section, as well as document the decisions that you made in your approach to each subtask. **Your project will be evaluated not just on the code used to complete the tasks outlined, but also your communication about your observations and conclusions at each stage.**"
   ]
  },
  {
   "cell_type": "code",
   "execution_count": 1,
   "metadata": {},
   "outputs": [
    {
     "data": {
      "text/plain": [
       "'\\nImport note: The classroom currently uses sklearn version 0.19.\\nIf you need to use an imputer, it is available in sklearn.preprocessing.Imputer,\\ninstead of sklearn.impute as in newer versions of sklearn.\\n'"
      ]
     },
     "execution_count": 1,
     "metadata": {},
     "output_type": "execute_result"
    }
   ],
   "source": [
    "# import libraries here; add more as necessary\n",
    "import numpy as np\n",
    "import pandas as pd\n",
    "import matplotlib.pyplot as plt\n",
    "import seaborn as sns\n",
    "\n",
    "# magic word for producing visualizations in notebook\n",
    "%matplotlib inline\n",
    "\n",
    "'''\n",
    "Import note: The classroom currently uses sklearn version 0.19.\n",
    "If you need to use an imputer, it is available in sklearn.preprocessing.Imputer,\n",
    "instead of sklearn.impute as in newer versions of sklearn.\n",
    "'''"
   ]
  },
  {
   "cell_type": "markdown",
   "metadata": {},
   "source": [
    "### Step 0: Load the Data\n",
    "\n",
    "There are four files associated with this project (not including this one):\n",
    "\n",
    "- `Udacity_AZDIAS_Subset.csv`: Demographics data for the general population of Germany; 891211 persons (rows) x 85 features (columns).\n",
    "- `Udacity_CUSTOMERS_Subset.csv`: Demographics data for customers of a mail-order company; 191652 persons (rows) x 85 features (columns).\n",
    "- `Data_Dictionary.md`: Detailed information file about the features in the provided datasets.\n",
    "- `AZDIAS_Feature_Summary.csv`: Summary of feature attributes for demographics data; 85 features (rows) x 4 columns\n",
    "\n",
    "Each row of the demographics files represents a single person, but also includes information outside of individuals, including information about their household, building, and neighborhood. You will use this information to cluster the general population into groups with similar demographic properties. Then, you will see how the people in the customers dataset fit into those created clusters. The hope here is that certain clusters are over-represented in the customers data, as compared to the general population; those over-represented clusters will be assumed to be part of the core userbase. This information can then be used for further applications, such as targeting for a marketing campaign.\n",
    "\n",
    "To start off with, load in the demographics data for the general population into a pandas DataFrame, and do the same for the feature attributes summary. Note for all of the `.csv` data files in this project: they're semicolon (`;`) delimited, so you'll need an additional argument in your [`read_csv()`](https://pandas.pydata.org/pandas-docs/stable/generated/pandas.read_csv.html) call to read in the data properly. Also, considering the size of the main dataset, it may take some time for it to load completely.\n",
    "\n",
    "Once the dataset is loaded, it's recommended that you take a little bit of time just browsing the general structure of the dataset and feature summary file. You'll be getting deep into the innards of the cleaning in the first major step of the project, so gaining some general familiarity can help you get your bearings."
   ]
  },
  {
   "cell_type": "code",
   "execution_count": 2,
   "metadata": {},
   "outputs": [],
   "source": [
    "# Load in the general demographics data.\n",
    "azdias = pd.read_csv('Udacity_AZDIAS_Subset.csv',delimiter=';')\n",
    "\n",
    "# Load in the feature summary file.\n",
    "feat_info = pd.read_csv('AZDIAS_Feature_Summary.csv',delimiter=';')"
   ]
  },
  {
   "cell_type": "code",
   "execution_count": 3,
   "metadata": {
    "scrolled": true
   },
   "outputs": [
    {
     "name": "stdout",
     "output_type": "stream",
     "text": [
      "(891221, 85)\n",
      "   AGER_TYP  ALTERSKATEGORIE_GROB  ANREDE_KZ  CJT_GESAMTTYP  \\\n",
      "0        -1                     2          1            2.0   \n",
      "1        -1                     1          2            5.0   \n",
      "2        -1                     3          2            3.0   \n",
      "3         2                     4          2            2.0   \n",
      "4        -1                     3          1            5.0   \n",
      "\n",
      "   FINANZ_MINIMALIST  FINANZ_SPARER  FINANZ_VORSORGER  FINANZ_ANLEGER  \\\n",
      "0                  3              4                 3               5   \n",
      "1                  1              5                 2               5   \n",
      "2                  1              4                 1               2   \n",
      "3                  4              2                 5               2   \n",
      "4                  4              3                 4               1   \n",
      "\n",
      "   FINANZ_UNAUFFAELLIGER  FINANZ_HAUSBAUER    ...     PLZ8_ANTG1  PLZ8_ANTG2  \\\n",
      "0                      5                 3    ...            NaN         NaN   \n",
      "1                      4                 5    ...            2.0         3.0   \n",
      "2                      3                 5    ...            3.0         3.0   \n",
      "3                      1                 2    ...            2.0         2.0   \n",
      "4                      3                 2    ...            2.0         4.0   \n",
      "\n",
      "   PLZ8_ANTG3  PLZ8_ANTG4  PLZ8_BAUMAX  PLZ8_HHZ  PLZ8_GBZ  ARBEIT  \\\n",
      "0         NaN         NaN          NaN       NaN       NaN     NaN   \n",
      "1         2.0         1.0          1.0       5.0       4.0     3.0   \n",
      "2         1.0         0.0          1.0       4.0       4.0     3.0   \n",
      "3         2.0         0.0          1.0       3.0       4.0     2.0   \n",
      "4         2.0         1.0          2.0       3.0       3.0     4.0   \n",
      "\n",
      "   ORTSGR_KLS9  RELAT_AB  \n",
      "0          NaN       NaN  \n",
      "1          5.0       4.0  \n",
      "2          5.0       2.0  \n",
      "3          3.0       3.0  \n",
      "4          6.0       5.0  \n",
      "\n",
      "[5 rows x 85 columns]\n",
      "(85, 4)\n",
      "              attribute information_level         type missing_or_unknown\n",
      "0              AGER_TYP            person  categorical             [-1,0]\n",
      "1  ALTERSKATEGORIE_GROB            person      ordinal           [-1,0,9]\n",
      "2             ANREDE_KZ            person  categorical             [-1,0]\n",
      "3         CJT_GESAMTTYP            person  categorical                [0]\n",
      "4     FINANZ_MINIMALIST            person      ordinal               [-1]\n"
     ]
    }
   ],
   "source": [
    "# Check the structure of the data after it's loaded (e.g. print the number of\n",
    "# rows and columns, print the first few rows).\n",
    "print(azdias.shape)\n",
    "print(azdias.head())\n",
    "print(feat_info.shape)\n",
    "print(feat_info.head())"
   ]
  },
  {
   "cell_type": "code",
   "execution_count": 4,
   "metadata": {},
   "outputs": [
    {
     "data": {
      "text/plain": [
       "[-1]        26\n",
       "[-1,9]      17\n",
       "[-1,0]      16\n",
       "[0]         12\n",
       "[]          10\n",
       "[-1,XX]      1\n",
       "[-1,0,9]     1\n",
       "[-1,X]       1\n",
       "[XX]         1\n",
       "Name: missing_or_unknown, dtype: int64"
      ]
     },
     "execution_count": 4,
     "metadata": {},
     "output_type": "execute_result"
    }
   ],
   "source": [
    "feat_info.missing_or_unknown.value_counts()"
   ]
  },
  {
   "cell_type": "markdown",
   "metadata": {},
   "source": [
    "> **Tip**: Add additional cells to keep everything in reasonably-sized chunks! Keyboard shortcut `esc --> a` (press escape to enter command mode, then press the 'A' key) adds a new cell before the active cell, and `esc --> b` adds a new cell after the active cell. If you need to convert an active cell to a markdown cell, use `esc --> m` and to convert to a code cell, use `esc --> y`. \n",
    "\n",
    "## Step 1: Preprocessing\n",
    "\n",
    "### Step 1.1: Assess Missing Data\n",
    "\n",
    "The feature summary file contains a summary of properties for each demographics data column. You will use this file to help you make cleaning decisions during this stage of the project. First of all, you should assess the demographics data in terms of missing data. Pay attention to the following points as you perform your analysis, and take notes on what you observe. Make sure that you fill in the **Discussion** cell with your findings and decisions at the end of each step that has one!\n",
    "\n",
    "#### Step 1.1.1: Convert Missing Value Codes to NaNs\n",
    "The fourth column of the feature attributes summary (loaded in above as `feat_info`) documents the codes from the data dictionary that indicate missing or unknown data. While the file encodes this as a list (e.g. `[-1,0]`), this will get read in as a string object. You'll need to do a little bit of parsing to make use of it to identify and clean the data. Convert data that matches a 'missing' or 'unknown' value code into a numpy NaN value. You might want to see how much data takes on a 'missing' or 'unknown' code, and how much data is naturally missing, as a point of interest.\n",
    "\n",
    "**As one more reminder, you are encouraged to add additional cells to break up your analysis into manageable chunks.**"
   ]
  },
  {
   "cell_type": "code",
   "execution_count": 5,
   "metadata": {},
   "outputs": [
    {
     "data": {
      "text/plain": [
       "AGER_TYP                      0\n",
       "ALTERSKATEGORIE_GROB          0\n",
       "ANREDE_KZ                     0\n",
       "CJT_GESAMTTYP              4854\n",
       "FINANZ_MINIMALIST             0\n",
       "FINANZ_SPARER                 0\n",
       "FINANZ_VORSORGER              0\n",
       "FINANZ_ANLEGER                0\n",
       "FINANZ_UNAUFFAELLIGER         0\n",
       "FINANZ_HAUSBAUER              0\n",
       "FINANZTYP                     0\n",
       "GEBURTSJAHR                   0\n",
       "GFK_URLAUBERTYP            4854\n",
       "GREEN_AVANTGARDE              0\n",
       "HEALTH_TYP                    0\n",
       "LP_LEBENSPHASE_FEIN        4854\n",
       "LP_LEBENSPHASE_GROB        4854\n",
       "LP_FAMILIE_FEIN            4854\n",
       "LP_FAMILIE_GROB            4854\n",
       "LP_STATUS_FEIN             4854\n",
       "LP_STATUS_GROB             4854\n",
       "NATIONALITAET_KZ              0\n",
       "PRAEGENDE_JUGENDJAHRE         0\n",
       "RETOURTYP_BK_S             4854\n",
       "SEMIO_SOZ                     0\n",
       "SEMIO_FAM                     0\n",
       "SEMIO_REL                     0\n",
       "SEMIO_MAT                     0\n",
       "SEMIO_VERT                    0\n",
       "SEMIO_LUST                    0\n",
       "                          ...  \n",
       "OST_WEST_KZ               93148\n",
       "WOHNLAGE                  93148\n",
       "CAMEO_DEUG_2015           98979\n",
       "CAMEO_DEU_2015            98979\n",
       "CAMEO_INTL_2015           98979\n",
       "KBA05_ANTG1              133324\n",
       "KBA05_ANTG2              133324\n",
       "KBA05_ANTG3              133324\n",
       "KBA05_ANTG4              133324\n",
       "KBA05_BAUMAX             133324\n",
       "KBA05_GBZ                133324\n",
       "BALLRAUM                  93740\n",
       "EWDICHTE                  93740\n",
       "INNENSTADT                93740\n",
       "GEBAEUDETYP_RASTER        93155\n",
       "KKK                      121196\n",
       "MOBI_REGIO               133324\n",
       "ONLINE_AFFINITAET          4854\n",
       "REGIOTYP                 121196\n",
       "KBA13_ANZAHL_PKW         105800\n",
       "PLZ8_ANTG1               116515\n",
       "PLZ8_ANTG2               116515\n",
       "PLZ8_ANTG3               116515\n",
       "PLZ8_ANTG4               116515\n",
       "PLZ8_BAUMAX              116515\n",
       "PLZ8_HHZ                 116515\n",
       "PLZ8_GBZ                 116515\n",
       "ARBEIT                    97216\n",
       "ORTSGR_KLS9               97216\n",
       "RELAT_AB                  97216\n",
       "Length: 85, dtype: int64"
      ]
     },
     "execution_count": 5,
     "metadata": {},
     "output_type": "execute_result"
    }
   ],
   "source": [
    "# Identify missing or unknown data values and convert them to NaNs.\n",
    "azdias.isnull().sum()\n"
   ]
  },
  {
   "cell_type": "code",
   "execution_count": 6,
   "metadata": {},
   "outputs": [],
   "source": [
    "feat_info['missing_or_unknown'] = feat_info['missing_or_unknown'].apply(lambda x: x.strip('[]').split(','))\n",
    "for attribute, missing_or_unknown in zip(feat_info['attribute'], feat_info['missing_or_unknown']):\n",
    "    if missing_or_unknown[0] != '':\n",
    "        for val in missing_or_unknown:\n",
    "            if val.isnumeric() or val.lstrip('-').isnumeric():\n",
    "                azdias.loc[azdias[attribute] == int(val), attribute] = np.nan\n",
    "            else:\n",
    "                azdias.loc[azdias[attribute] == val, attribute] = np.nan"
   ]
  },
  {
   "cell_type": "markdown",
   "metadata": {},
   "source": [
    "#### Step 1.1.2: Assess Missing Data in Each Column\n",
    "\n",
    "How much missing data is present in each column? There are a few columns that are outliers in terms of the proportion of values that are missing. You will want to use matplotlib's [`hist()`](https://matplotlib.org/api/_as_gen/matplotlib.pyplot.hist.html) function to visualize the distribution of missing value counts to find these columns. Identify and document these columns. While some of these columns might have justifications for keeping or re-encoding the data, for this project you should just remove them from the dataframe. (Feel free to make remarks about these outlier columns in the discussion, however!)\n",
    "\n",
    "For the remaining features, are there any patterns in which columns have, or share, missing data?"
   ]
  },
  {
   "cell_type": "code",
   "execution_count": 7,
   "metadata": {},
   "outputs": [
    {
     "data": {
      "text/plain": [
       "AGER_TYP                 76.955435\n",
       "ALTERSKATEGORIE_GROB      0.323264\n",
       "ANREDE_KZ                 0.000000\n",
       "CJT_GESAMTTYP             0.544646\n",
       "FINANZ_MINIMALIST         0.000000\n",
       "FINANZ_SPARER             0.000000\n",
       "FINANZ_VORSORGER          0.000000\n",
       "FINANZ_ANLEGER            0.000000\n",
       "FINANZ_UNAUFFAELLIGER     0.000000\n",
       "FINANZ_HAUSBAUER          0.000000\n",
       "FINANZTYP                 0.000000\n",
       "GEBURTSJAHR              44.020282\n",
       "GFK_URLAUBERTYP           0.544646\n",
       "GREEN_AVANTGARDE          0.000000\n",
       "HEALTH_TYP               12.476816\n",
       "LP_LEBENSPHASE_FEIN      10.954859\n",
       "LP_LEBENSPHASE_GROB      10.611509\n",
       "LP_FAMILIE_FEIN           8.728699\n",
       "LP_FAMILIE_GROB           8.728699\n",
       "LP_STATUS_FEIN            0.544646\n",
       "LP_STATUS_GROB            0.544646\n",
       "NATIONALITAET_KZ         12.153551\n",
       "PRAEGENDE_JUGENDJAHRE    12.136608\n",
       "RETOURTYP_BK_S            0.544646\n",
       "SEMIO_SOZ                 0.000000\n",
       "SEMIO_FAM                 0.000000\n",
       "SEMIO_REL                 0.000000\n",
       "SEMIO_MAT                 0.000000\n",
       "SEMIO_VERT                0.000000\n",
       "SEMIO_LUST                0.000000\n",
       "                           ...    \n",
       "OST_WEST_KZ              10.451729\n",
       "WOHNLAGE                 10.451729\n",
       "CAMEO_DEUG_2015          11.147852\n",
       "CAMEO_DEU_2015           11.147852\n",
       "CAMEO_INTL_2015          11.147852\n",
       "KBA05_ANTG1              14.959701\n",
       "KBA05_ANTG2              14.959701\n",
       "KBA05_ANTG3              14.959701\n",
       "KBA05_ANTG4              14.959701\n",
       "KBA05_BAUMAX             53.468668\n",
       "KBA05_GBZ                14.959701\n",
       "BALLRAUM                 10.518154\n",
       "EWDICHTE                 10.518154\n",
       "INNENSTADT               10.518154\n",
       "GEBAEUDETYP_RASTER       10.452514\n",
       "KKK                      17.735668\n",
       "MOBI_REGIO               14.959701\n",
       "ONLINE_AFFINITAET         0.544646\n",
       "REGIOTYP                 17.735668\n",
       "KBA13_ANZAHL_PKW         11.871354\n",
       "PLZ8_ANTG1               13.073637\n",
       "PLZ8_ANTG2               13.073637\n",
       "PLZ8_ANTG3               13.073637\n",
       "PLZ8_ANTG4               13.073637\n",
       "PLZ8_BAUMAX              13.073637\n",
       "PLZ8_HHZ                 13.073637\n",
       "PLZ8_GBZ                 13.073637\n",
       "ARBEIT                   10.926022\n",
       "ORTSGR_KLS9              10.914689\n",
       "RELAT_AB                 10.926022\n",
       "Length: 85, dtype: float64"
      ]
     },
     "execution_count": 7,
     "metadata": {},
     "output_type": "execute_result"
    }
   ],
   "source": [
    "# Perform an assessment of how much missing data there is in each column of the\n",
    "# dataset.\n",
    "missing_cols = (azdias.isnull().sum()/len(azdias))*100\n",
    "missing_cols"
   ]
  },
  {
   "cell_type": "code",
   "execution_count": 8,
   "metadata": {},
   "outputs": [
    {
     "data": {
      "text/plain": [
       "<matplotlib.axes._subplots.AxesSubplot at 0x7f88ce8e7908>"
      ]
     },
     "execution_count": 8,
     "metadata": {},
     "output_type": "execute_result"
    },
    {
     "data": {
      "image/png": "[encoded data removed]",
      "text/plain": [
       "<matplotlib.figure.Figure at 0x7f88cf0e4d68>"
      ]
     },
     "metadata": {
      "needs_background": "light"
     },
     "output_type": "display_data"
    }
   ],
   "source": [
    "missing_cols.hist(bins=100)"
   ]
  },
  {
   "cell_type": "code",
   "execution_count": 9,
   "metadata": {},
   "outputs": [
    {
     "data": {
      "text/plain": [
       "<matplotlib.axes._subplots.AxesSubplot at 0x7f88ce5f55f8>"
      ]
     },
     "execution_count": 9,
     "metadata": {},
     "output_type": "execute_result"
    },
    {
     "data": {
      "image/png": "[encoded data removed]",
      "text/plain": [
       "<matplotlib.figure.Figure at 0x7f88ce878b38>"
      ]
     },
     "metadata": {
      "needs_background": "light"
     },
     "output_type": "display_data"
    }
   ],
   "source": [
    "# Investigate patterns in the amount of missing data in each column.\n",
    "azdias.isnull().sum().hist(bins=100)"
   ]
  },
  {
   "cell_type": "code",
   "execution_count": 10,
   "metadata": {},
   "outputs": [],
   "source": [
    "# Remove the outlier columns from the dataset. (You'll perform other data\n",
    "# engineering tasks such as re-encoding and imputation later.)\n",
    "drop_columns = list(azdias.isnull().sum()[(azdias.isnull().sum()>300000) | (missing_cols>20)].index)\n",
    "azdias.drop(drop_columns,axis='columns',inplace=True)"
   ]
  },
  {
   "cell_type": "code",
   "execution_count": 11,
   "metadata": {},
   "outputs": [
    {
     "data": {
      "text/plain": [
       "(891221, 79)"
      ]
     },
     "execution_count": 11,
     "metadata": {},
     "output_type": "execute_result"
    }
   ],
   "source": [
    "azdias.shape"
   ]
  },
  {
   "cell_type": "code",
   "execution_count": 12,
   "metadata": {},
   "outputs": [
    {
     "name": "stdout",
     "output_type": "stream",
     "text": [
      "['AGER_TYP', 'GEBURTSJAHR', 'TITEL_KZ', 'ALTER_HH', 'KK_KUNDENTYP', 'KBA05_BAUMAX']\n"
     ]
    }
   ],
   "source": [
    "print(drop_columns)"
   ]
  },
  {
   "cell_type": "markdown",
   "metadata": {},
   "source": [
    "#### Discussion 1.1.2: Assess Missing Data in Each Column\n",
    "\n",
    "(Double click this cell and replace this text with your own text, reporting your observations regarding the amount of missing data in each column. Are there any patterns in missing values? Which columns were removed from the dataset?)Most colums has less than 200000 missing values."
   ]
  },
  {
   "cell_type": "markdown",
   "metadata": {},
   "source": [
    "#### Step 1.1.3: Assess Missing Data in Each Row\n",
    "\n",
    "Now, you'll perform a similar assessment for the rows of the dataset. How much data is missing in each row? As with the columns, you should see some groups of points that have a very different numbers of missing values. Divide the data into two subsets: one for data points that are above some threshold for missing values, and a second subset for points below that threshold.\n",
    "\n",
    "In order to know what to do with the outlier rows, we should see if the distribution of data values on columns that are not missing data (or are missing very little data) are similar or different between the two groups. Select at least five of these columns and compare the distribution of values.\n",
    "- You can use seaborn's [`countplot()`](https://seaborn.pydata.org/generated/seaborn.countplot.html) function to create a bar chart of code frequencies and matplotlib's [`subplot()`](https://matplotlib.org/api/_as_gen/matplotlib.pyplot.subplot.html) function to put bar charts for the two subplots side by side.\n",
    "- To reduce repeated code, you might want to write a function that can perform this comparison, taking as one of its arguments a column to be compared.\n",
    "\n",
    "Depending on what you observe in your comparison, this will have implications on how you approach your conclusions later in the analysis. If the distributions of non-missing features look similar between the data with many missing values and the data with few or no missing values, then we could argue that simply dropping those points from the analysis won't present a major issue. On the other hand, if the data with many missing values looks very different from the data with few or no missing values, then we should make a note on those data as special. We'll revisit these data later on. **Either way, you should continue your analysis for now using just the subset of the data with few or no missing values.**"
   ]
  },
  {
   "cell_type": "code",
   "execution_count": 13,
   "metadata": {},
   "outputs": [
    {
     "data": {
      "text/plain": [
       "0         43\n",
       "1          0\n",
       "2          0\n",
       "3          7\n",
       "4          0\n",
       "5          0\n",
       "6          0\n",
       "7          0\n",
       "8          0\n",
       "9          0\n",
       "10         0\n",
       "11        47\n",
       "12         6\n",
       "13         8\n",
       "14        47\n",
       "15         8\n",
       "16         6\n",
       "17        47\n",
       "18         3\n",
       "19         0\n",
       "20        10\n",
       "21         0\n",
       "22         0\n",
       "23         8\n",
       "24        47\n",
       "25         5\n",
       "26        19\n",
       "27         0\n",
       "28         0\n",
       "29         2\n",
       "          ..\n",
       "891191     0\n",
       "891192     0\n",
       "891193     0\n",
       "891194     0\n",
       "891195     0\n",
       "891196     0\n",
       "891197     0\n",
       "891198     0\n",
       "891199     0\n",
       "891200     0\n",
       "891201     0\n",
       "891202     0\n",
       "891203    14\n",
       "891204     0\n",
       "891205     0\n",
       "891206     0\n",
       "891207     0\n",
       "891208     3\n",
       "891209     0\n",
       "891210     0\n",
       "891211     0\n",
       "891212     0\n",
       "891213     0\n",
       "891214     0\n",
       "891215     0\n",
       "891216     3\n",
       "891217     4\n",
       "891218     5\n",
       "891219     0\n",
       "891220     0\n",
       "Length: 891221, dtype: int64"
      ]
     },
     "execution_count": 13,
     "metadata": {},
     "output_type": "execute_result"
    }
   ],
   "source": [
    "# How much data is missing in each row of the dataset?\n",
    "azdias.isnull().sum(axis=1)"
   ]
  },
  {
   "cell_type": "code",
   "execution_count": 14,
   "metadata": {},
   "outputs": [
    {
     "data": {
      "text/plain": [
       "<matplotlib.axes._subplots.AxesSubplot at 0x7f88ce0d4518>"
      ]
     },
     "execution_count": 14,
     "metadata": {},
     "output_type": "execute_result"
    },
    {
     "data": {
      "image/png": "[encoded data removed]",
      "text/plain": [
       "<matplotlib.figure.Figure at 0x7f88ce15df28>"
      ]
     },
     "metadata": {
      "needs_background": "light"
     },
     "output_type": "display_data"
    }
   ],
   "source": [
    "azdias.isnull().sum(axis=1).hist(bins=100)"
   ]
  },
  {
   "cell_type": "code",
   "execution_count": 15,
   "metadata": {
    "scrolled": true
   },
   "outputs": [
    {
     "name": "stdout",
     "output_type": "stream",
     "text": [
      "    ALTERSKATEGORIE_GROB  ANREDE_KZ  CJT_GESAMTTYP  FINANZ_MINIMALIST  \\\n",
      "0                    2.0        1.0            2.0                3.0   \n",
      "11                   2.0        1.0            6.0                3.0   \n",
      "14                   3.0        1.0            6.0                3.0   \n",
      "17                   2.0        1.0            6.0                3.0   \n",
      "24                   3.0        2.0            6.0                3.0   \n",
      "\n",
      "    FINANZ_SPARER  FINANZ_VORSORGER  FINANZ_ANLEGER  FINANZ_UNAUFFAELLIGER  \\\n",
      "0             4.0               3.0             5.0                    5.0   \n",
      "11            4.0               3.0             5.0                    5.0   \n",
      "14            4.0               3.0             5.0                    5.0   \n",
      "17            4.0               3.0             5.0                    5.0   \n",
      "24            4.0               3.0             5.0                    5.0   \n",
      "\n",
      "    FINANZ_HAUSBAUER  FINANZTYP    ...     PLZ8_ANTG1  PLZ8_ANTG2  PLZ8_ANTG3  \\\n",
      "0                3.0        4.0    ...            NaN         NaN         NaN   \n",
      "11               3.0        4.0    ...            NaN         NaN         NaN   \n",
      "14               3.0        4.0    ...            NaN         NaN         NaN   \n",
      "17               3.0        4.0    ...            NaN         NaN         NaN   \n",
      "24               3.0        4.0    ...            NaN         NaN         NaN   \n",
      "\n",
      "    PLZ8_ANTG4  PLZ8_BAUMAX  PLZ8_HHZ  PLZ8_GBZ  ARBEIT  ORTSGR_KLS9  RELAT_AB  \n",
      "0          NaN          NaN       NaN       NaN     NaN          NaN       NaN  \n",
      "11         NaN          NaN       NaN       NaN     NaN          NaN       NaN  \n",
      "14         NaN          NaN       NaN       NaN     NaN          NaN       NaN  \n",
      "17         NaN          NaN       NaN       NaN     NaN          NaN       NaN  \n",
      "24         NaN          NaN       NaN       NaN     NaN          NaN       NaN  \n",
      "\n",
      "[5 rows x 79 columns]\n",
      "   ALTERSKATEGORIE_GROB  ANREDE_KZ  CJT_GESAMTTYP  FINANZ_MINIMALIST  \\\n",
      "1                   1.0        2.0            5.0                1.0   \n",
      "2                   3.0        2.0            3.0                1.0   \n",
      "3                   4.0        2.0            2.0                4.0   \n",
      "4                   3.0        1.0            5.0                4.0   \n",
      "5                   1.0        2.0            2.0                3.0   \n",
      "\n",
      "   FINANZ_SPARER  FINANZ_VORSORGER  FINANZ_ANLEGER  FINANZ_UNAUFFAELLIGER  \\\n",
      "1            5.0               2.0             5.0                    4.0   \n",
      "2            4.0               1.0             2.0                    3.0   \n",
      "3            2.0               5.0             2.0                    1.0   \n",
      "4            3.0               4.0             1.0                    3.0   \n",
      "5            1.0               5.0             2.0                    2.0   \n",
      "\n",
      "   FINANZ_HAUSBAUER  FINANZTYP    ...     PLZ8_ANTG1  PLZ8_ANTG2  PLZ8_ANTG3  \\\n",
      "1               5.0        1.0    ...            2.0         3.0         2.0   \n",
      "2               5.0        1.0    ...            3.0         3.0         1.0   \n",
      "3               2.0        6.0    ...            2.0         2.0         2.0   \n",
      "4               2.0        5.0    ...            2.0         4.0         2.0   \n",
      "5               5.0        2.0    ...            2.0         3.0         1.0   \n",
      "\n",
      "   PLZ8_ANTG4  PLZ8_BAUMAX  PLZ8_HHZ  PLZ8_GBZ  ARBEIT  ORTSGR_KLS9  RELAT_AB  \n",
      "1         1.0          1.0       5.0       4.0     3.0          5.0       4.0  \n",
      "2         0.0          1.0       4.0       4.0     3.0          5.0       2.0  \n",
      "3         0.0          1.0       3.0       4.0     2.0          3.0       3.0  \n",
      "4         1.0          2.0       3.0       3.0     4.0          6.0       5.0  \n",
      "5         1.0          1.0       5.0       5.0     2.0          3.0       3.0  \n",
      "\n",
      "[5 rows x 79 columns]\n"
     ]
    }
   ],
   "source": [
    "# Write code to divide the data into two subsets based on the number of missing\n",
    "# values in each row.\n",
    "sub1 = azdias[azdias.isnull().sum(axis=1)>10]\n",
    "sub2 = azdias[azdias.isnull().sum(axis=1)<=10]\n",
    "print(sub1.head())\n",
    "print(sub2.head())"
   ]
  },
  {
   "cell_type": "code",
   "execution_count": 16,
   "metadata": {
    "scrolled": true
   },
   "outputs": [
    {
     "data": {
      "image/png": "[encoded data removed]",
      "text/plain": [
       "<matplotlib.figure.Figure at 0x7f88cddb7ef0>"
      ]
     },
     "metadata": {
      "needs_background": "light"
     },
     "output_type": "display_data"
    }
   ],
   "source": [
    "# Compare the distribution of values for at least five columns where there are\n",
    "# no or few missing values, between the two subsets.\n",
    "columns=['ALTERSKATEGORIE_GROB','ANREDE_KZ','CJT_GESAMTTYP','FINANZ_MINIMALIST','FINANZ_SPARER']\n",
    "fig, ax = plt.subplots(5,2, figsize=(16,20))\n",
    "for i, column in enumerate(columns):\n",
    "    sns.countplot(x=sub1[column], ax=ax[i,0])\n",
    "    sns.countplot(x=sub2[column], ax=ax[i,1])\n",
    "plt.show()"
   ]
  },
  {
   "cell_type": "code",
   "execution_count": 17,
   "metadata": {},
   "outputs": [],
   "source": [
    "azdias=sub2"
   ]
  },
  {
   "cell_type": "markdown",
   "metadata": {},
   "source": [
    "#### Discussion 1.1.3: Assess Missing Data in Each Row\n",
    "\n",
    "(Double-click this cell and replace this text with your own text, reporting your observations regarding missing data in rows. Are the data with lots of missing values are qualitatively different from data with few or no missing values?)"
   ]
  },
  {
   "cell_type": "markdown",
   "metadata": {},
   "source": [
    "### Step 1.2: Select and Re-Encode Features\n",
    "\n",
    "Checking for missing data isn't the only way in which you can prepare a dataset for analysis. Since the unsupervised learning techniques to be used will only work on data that is encoded numerically, you need to make a few encoding changes or additional assumptions to be able to make progress. In addition, while almost all of the values in the dataset are encoded using numbers, not all of them represent numeric values. Check the third column of the feature summary (`feat_info`) for a summary of types of measurement.\n",
    "- For numeric and interval data, these features can be kept without changes.\n",
    "- Most of the variables in the dataset are ordinal in nature. While ordinal values may technically be non-linear in spacing, make the simplifying assumption that the ordinal variables can be treated as being interval in nature (that is, kept without any changes).\n",
    "- Special handling may be necessary for the remaining two variable types: categorical, and 'mixed'.\n",
    "\n",
    "In the first two parts of this sub-step, you will perform an investigation of the categorical and mixed-type features and make a decision on each of them, whether you will keep, drop, or re-encode each. Then, in the last part, you will create a new data frame with only the selected and engineered columns.\n",
    "\n",
    "Data wrangling is often the trickiest part of the data analysis process, and there's a lot of it to be done here. But stick with it: once you're done with this step, you'll be ready to get to the machine learning parts of the project!"
   ]
  },
  {
   "cell_type": "code",
   "execution_count": 18,
   "metadata": {},
   "outputs": [
    {
     "name": "stdout",
     "output_type": "stream",
     "text": [
      "             attribute  information_level  missing_or_unknown\n",
      "type                                                         \n",
      "categorical         21                 21                  21\n",
      "interval             1                  1                   1\n",
      "mixed                7                  7                   7\n",
      "numeric              7                  7                   7\n",
      "ordinal             49                 49                  49\n"
     ]
    }
   ],
   "source": [
    "# How many features are there of each data type?\n",
    "print(feat_info.groupby('type').count())\n"
   ]
  },
  {
   "cell_type": "markdown",
   "metadata": {},
   "source": [
    "#### Step 1.2.1: Re-Encode Categorical Features\n",
    "\n",
    "For categorical data, you would ordinarily need to encode the levels as dummy variables. Depending on the number of categories, perform one of the following:\n",
    "- For binary (two-level) categoricals that take numeric values, you can keep them without needing to do anything.\n",
    "- There is one binary variable that takes on non-numeric values. For this one, you need to re-encode the values as numbers or create a dummy variable.\n",
    "- For multi-level categoricals (three or more values), you can choose to encode the values using multiple dummy variables (e.g. via [OneHotEncoder](http://scikit-learn.org/stable/modules/generated/sklearn.preprocessing.OneHotEncoder.html)), or (to keep things straightforward) just drop them from the analysis. As always, document your choices in the Discussion section."
   ]
  },
  {
   "cell_type": "code",
   "execution_count": 19,
   "metadata": {},
   "outputs": [
    {
     "data": {
      "text/plain": [
       "ANREDE_KZ            2\n",
       "CJT_GESAMTTYP        6\n",
       "FINANZTYP            6\n",
       "GFK_URLAUBERTYP     12\n",
       "GREEN_AVANTGARDE     2\n",
       "LP_FAMILIE_FEIN     11\n",
       "LP_FAMILIE_GROB      5\n",
       "LP_STATUS_FEIN      10\n",
       "LP_STATUS_GROB       5\n",
       "NATIONALITAET_KZ     3\n",
       "SHOPPER_TYP          4\n",
       "SOHO_KZ              2\n",
       "VERS_TYP             2\n",
       "ZABEOTYP             6\n",
       "GEBAEUDETYP          7\n",
       "OST_WEST_KZ          2\n",
       "CAMEO_DEUG_2015      9\n",
       "CAMEO_DEU_2015      44\n",
       "dtype: int64"
      ]
     },
     "execution_count": 19,
     "metadata": {},
     "output_type": "execute_result"
    }
   ],
   "source": [
    "# Assess categorical variables: which are binary, which are multi-level, and\n",
    "# which one needs to be re-en\n",
    "#print(azdias[feat_info['attrbute']][(feat_info['type']=='categorical')&(feat_info['type'] in azdias.columns).head()])\n",
    "\n",
    "categorical_features=feat_info[feat_info['type']=='categorical']['attribute'].values\n",
    "categorical_features=[x for x in categorical_features if x in azdias.columns]\n",
    "#binary=categorical_features[categorical_features.nunique()==2]\n",
    "#multi_level=categorical_features[categorical_features.nunique()>2]\n",
    "binary_cols = [x for x in categorical_features if azdias[x].nunique()==2]\n",
    "multilevel = [x for x in categorical_features if azdias[x].nunique()>2]\n",
    "azdias[categorical_features].nunique()"
   ]
  },
  {
   "cell_type": "code",
   "execution_count": 20,
   "metadata": {},
   "outputs": [
    {
     "name": "stdout",
     "output_type": "stream",
     "text": [
      "   ANREDE_KZ  GREEN_AVANTGARDE  SOHO_KZ  VERS_TYP OST_WEST_KZ\n",
      "1        2.0                 0      1.0       2.0           W\n",
      "2        2.0                 1      0.0       1.0           W\n",
      "3        2.0                 0      0.0       1.0           W\n",
      "4        1.0                 0      0.0       2.0           W\n",
      "5        2.0                 0      0.0       2.0           W\n",
      "W    614719\n",
      "O    165434\n",
      "Name: OST_WEST_KZ, dtype: int64\n"
     ]
    }
   ],
   "source": [
    "# Re-encode categorical variable(s) to be kept in the analysis.\n",
    "print(azdias[binary_cols].head())\n",
    "print(azdias['OST_WEST_KZ'].value_counts())"
   ]
  },
  {
   "cell_type": "code",
   "execution_count": 21,
   "metadata": {},
   "outputs": [],
   "source": [
    "azdias['OST_WEST_KZ']=azdias['OST_WEST_KZ'].replace({'W':1,'O':0})"
   ]
  },
  {
   "cell_type": "code",
   "execution_count": 22,
   "metadata": {},
   "outputs": [],
   "source": [
    "azdias=azdias.drop(multilevel,axis=1)"
   ]
  },
  {
   "cell_type": "code",
   "execution_count": 23,
   "metadata": {},
   "outputs": [],
   "source": [
    "from sklearn.preprocessing import OneHotEncoder\n",
    "ohe=OneHotEncoder()"
   ]
  },
  {
   "cell_type": "markdown",
   "metadata": {},
   "source": [
    "#### Discussion 1.2.1: Re-Encode Categorical Features\n",
    "\n",
    "(Double-click this cell and replace this text with your own text, reporting your findings and decisions regarding categorical features. Which ones did you keep, which did you drop, and what engineering steps did you perform?)"
   ]
  },
  {
   "cell_type": "markdown",
   "metadata": {},
   "source": [
    "#### Step 1.2.2: Engineer Mixed-Type Features\n",
    "\n",
    "There are a handful of features that are marked as \"mixed\" in the feature summary that require special treatment in order to be included in the analysis. There are two in particular that deserve attention; the handling of the rest are up to your own choices:\n",
    "- \"PRAEGENDE_JUGENDJAHRE\" combines information on three dimensions: generation by decade, movement (mainstream vs. avantgarde), and nation (east vs. west). While there aren't enough levels to disentangle east from west, you should create two new variables to capture the other two dimensions: an interval-type variable for decade, and a binary variable for movement.\n",
    "- \"CAMEO_INTL_2015\" combines information on two axes: wealth and life stage. Break up the two-digit codes by their 'tens'-place and 'ones'-place digits into two new ordinal variables (which, for the purposes of this project, is equivalent to just treating them as their raw numeric values).\n",
    "- If you decide to keep or engineer new features around the other mixed-type features, make sure you note your steps in the Discussion section.\n",
    "\n",
    "Be sure to check `Data_Dictionary.md` for the details needed to finish these tasks."
   ]
  },
  {
   "cell_type": "code",
   "execution_count": 24,
   "metadata": {},
   "outputs": [
    {
     "data": {
      "text/plain": [
       "array(['LP_LEBENSPHASE_FEIN', 'LP_LEBENSPHASE_GROB',\n",
       "       'PRAEGENDE_JUGENDJAHRE', 'WOHNLAGE', 'CAMEO_INTL_2015',\n",
       "       'KBA05_BAUMAX', 'PLZ8_BAUMAX'], dtype=object)"
      ]
     },
     "execution_count": 24,
     "metadata": {},
     "output_type": "execute_result"
    }
   ],
   "source": [
    "# Investigate \"PRAEGENDE_JUGENDJAHRE\" and engineer two new variables.\n",
    "mixed=feat_info[feat_info['type']=='mixed']['attribute'].values\n",
    "mixed"
   ]
  },
  {
   "cell_type": "code",
   "execution_count": 25,
   "metadata": {},
   "outputs": [
    {
     "name": "stdout",
     "output_type": "stream",
     "text": [
      "   LP_LEBENSPHASE_FEIN  LP_LEBENSPHASE_GROB  PRAEGENDE_JUGENDJAHRE  WOHNLAGE  \\\n",
      "1                 21.0                  6.0                   14.0       4.0   \n",
      "2                  3.0                  1.0                   15.0       2.0   \n",
      "3                  NaN                  NaN                    8.0       7.0   \n",
      "4                 32.0                 10.0                    8.0       3.0   \n",
      "5                  8.0                  2.0                    3.0       7.0   \n",
      "\n",
      "  CAMEO_INTL_2015  PLZ8_BAUMAX  \n",
      "1              51          1.0  \n",
      "2              24          1.0  \n",
      "3              12          1.0  \n",
      "4              43          2.0  \n",
      "5              54          1.0  \n",
      "14.0    178410\n",
      "8.0     138678\n",
      "10.0     83881\n",
      "5.0      83645\n",
      "3.0      53098\n",
      "15.0     41029\n",
      "11.0     34642\n",
      "9.0      33197\n",
      "6.0      25517\n",
      "12.0     24034\n",
      "4.0      20343\n",
      "1.0      20242\n",
      "2.0       7438\n",
      "13.0      5561\n",
      "7.0       3964\n",
      "Name: PRAEGENDE_JUGENDJAHRE, dtype: int64\n"
     ]
    }
   ],
   "source": [
    "mixed=[x for x in mixed if x in azdias.columns]\n",
    "print(azdias[mixed].head())\n",
    "print(azdias['PRAEGENDE_JUGENDJAHRE'].value_counts())"
   ]
  },
  {
   "cell_type": "code",
   "execution_count": 26,
   "metadata": {},
   "outputs": [],
   "source": [
    "Movement =[]\n",
    "Decade=[]\n",
    "for values in azdias['PRAEGENDE_JUGENDJAHRE']:\n",
    "    #Mapping to Movement\n",
    "    if values in [1.0,3.0,5.0,8.0,10.0,12.0,14.0]:\n",
    "        Movement.append(0.0)\n",
    "    elif values in [2.0,4.0,6.0,7.0,9.0,11.0,13.0,15.0]:\n",
    "        Movement.append(1.0)\n",
    "    else:\n",
    "        Movement.append(np.nan)\n",
    "    #Maping to Decade\n",
    "    if values in [1.0,2.0]:\n",
    "        Decade.append(40.0)\n",
    "    elif values in [3.0, 4.0]:\n",
    "        Decade.append(50.0)\n",
    "    elif values in [5.0,6.0,7.0]:\n",
    "        Decade.append(60.0)\n",
    "    elif values in [8.0,9.0]:\n",
    "        Decade.append(70.0)\n",
    "    elif values in [10.0,11.0,12.0,13.0]:\n",
    "        Decade.append(80)\n",
    "    elif values in [14.0,15.0]:\n",
    "        Decade.append(90)\n",
    "    else:\n",
    "        Decade.append(np.nan)\n",
    "azdias['PRAEGENDE_JUGENDJAHR_MOVEMENT']=Movement\n",
    "azdias['PRAEGENDE_JUGENDJAHR_DECADE']=Decade"
   ]
  },
  {
   "cell_type": "code",
   "execution_count": 27,
   "metadata": {},
   "outputs": [
    {
     "name": "stdout",
     "output_type": "stream",
     "text": [
      "<class 'pandas.core.frame.DataFrame'>\n",
      "Int64Index: 780153 entries, 1 to 891220\n",
      "Data columns (total 68 columns):\n",
      "ALTERSKATEGORIE_GROB             777528 non-null float64\n",
      "ANREDE_KZ                        780153 non-null float64\n",
      "FINANZ_MINIMALIST                780153 non-null float64\n",
      "FINANZ_SPARER                    780153 non-null float64\n",
      "FINANZ_VORSORGER                 780153 non-null float64\n",
      "FINANZ_ANLEGER                   780153 non-null float64\n",
      "FINANZ_UNAUFFAELLIGER            780153 non-null float64\n",
      "FINANZ_HAUSBAUER                 780153 non-null float64\n",
      "GREEN_AVANTGARDE                 780153 non-null int64\n",
      "HEALTH_TYP                       745629 non-null float64\n",
      "LP_LEBENSPHASE_FEIN              733579 non-null float64\n",
      "LP_LEBENSPHASE_GROB              736259 non-null float64\n",
      "PRAEGENDE_JUGENDJAHRE            753679 non-null float64\n",
      "RETOURTYP_BK_S                   776319 non-null float64\n",
      "SEMIO_SOZ                        780153 non-null float64\n",
      "SEMIO_FAM                        780153 non-null float64\n",
      "SEMIO_REL                        780153 non-null float64\n",
      "SEMIO_MAT                        780153 non-null float64\n",
      "SEMIO_VERT                       780153 non-null float64\n",
      "SEMIO_LUST                       780153 non-null float64\n",
      "SEMIO_ERL                        780153 non-null float64\n",
      "SEMIO_KULT                       780153 non-null float64\n",
      "SEMIO_RAT                        780153 non-null float64\n",
      "SEMIO_KRIT                       780153 non-null float64\n",
      "SEMIO_DOM                        780153 non-null float64\n",
      "SEMIO_KAEM                       780153 non-null float64\n",
      "SEMIO_PFLICHT                    780153 non-null float64\n",
      "SEMIO_TRADV                      780153 non-null float64\n",
      "SOHO_KZ                          780153 non-null float64\n",
      "VERS_TYP                         745629 non-null float64\n",
      "ANZ_PERSONEN                     780153 non-null float64\n",
      "ANZ_TITEL                        780153 non-null float64\n",
      "HH_EINKOMMEN_SCORE               780153 non-null float64\n",
      "W_KEIT_KIND_HH                   723871 non-null float64\n",
      "WOHNDAUER_2008                   780153 non-null float64\n",
      "ANZ_HAUSHALTE_AKTIV              774413 non-null float64\n",
      "ANZ_HH_TITEL                     776920 non-null float64\n",
      "KONSUMNAEHE                      780102 non-null float64\n",
      "MIN_GEBAEUDEJAHR                 780153 non-null float64\n",
      "OST_WEST_KZ                      780153 non-null int64\n",
      "WOHNLAGE                         780153 non-null float64\n",
      "CAMEO_INTL_2015                  776497 non-null object\n",
      "KBA05_ANTG1                      755696 non-null float64\n",
      "KBA05_ANTG2                      755696 non-null float64\n",
      "KBA05_ANTG3                      755696 non-null float64\n",
      "KBA05_ANTG4                      755696 non-null float64\n",
      "KBA05_GBZ                        755696 non-null float64\n",
      "BALLRAUM                         779610 non-null float64\n",
      "EWDICHTE                         779610 non-null float64\n",
      "INNENSTADT                       779610 non-null float64\n",
      "GEBAEUDETYP_RASTER               780148 non-null float64\n",
      "KKK                              725375 non-null float64\n",
      "MOBI_REGIO                       755696 non-null float64\n",
      "ONLINE_AFFINITAET                776319 non-null float64\n",
      "REGIOTYP                         725375 non-null float64\n",
      "KBA13_ANZAHL_PKW                 774493 non-null float64\n",
      "PLZ8_ANTG1                       772038 non-null float64\n",
      "PLZ8_ANTG2                       772038 non-null float64\n",
      "PLZ8_ANTG3                       772038 non-null float64\n",
      "PLZ8_ANTG4                       772038 non-null float64\n",
      "PLZ8_BAUMAX                      772038 non-null float64\n",
      "PLZ8_HHZ                         772038 non-null float64\n",
      "PLZ8_GBZ                         772038 non-null float64\n",
      "ARBEIT                           776154 non-null float64\n",
      "ORTSGR_KLS9                      776246 non-null float64\n",
      "RELAT_AB                         776154 non-null float64\n",
      "PRAEGENDE_JUGENDJAHR_MOVEMENT    753679 non-null float64\n",
      "PRAEGENDE_JUGENDJAHR_DECADE      753679 non-null float64\n",
      "dtypes: float64(65), int64(2), object(1)\n",
      "memory usage: 430.7+ MB\n"
     ]
    }
   ],
   "source": [
    "azdias.info()"
   ]
  },
  {
   "cell_type": "code",
   "execution_count": 28,
   "metadata": {},
   "outputs": [
    {
     "name": "stdout",
     "output_type": "stream",
     "text": [
      "<bound method NDFrame.describe of 1         51\n",
      "2         24\n",
      "3         12\n",
      "4         43\n",
      "5         54\n",
      "6         22\n",
      "7         14\n",
      "8         13\n",
      "9         15\n",
      "10        51\n",
      "12        43\n",
      "13        33\n",
      "15        41\n",
      "16        41\n",
      "18        24\n",
      "19        34\n",
      "20        24\n",
      "21        55\n",
      "22        51\n",
      "23        43\n",
      "25        33\n",
      "27        51\n",
      "28        13\n",
      "29        12\n",
      "31        51\n",
      "32        14\n",
      "33        41\n",
      "34        25\n",
      "36        41\n",
      "37        24\n",
      "          ..\n",
      "891190    15\n",
      "891191    44\n",
      "891192    32\n",
      "891193    43\n",
      "891194    24\n",
      "891195    55\n",
      "891196    23\n",
      "891197    24\n",
      "891198    14\n",
      "891199    51\n",
      "891200    52\n",
      "891201    41\n",
      "891202    41\n",
      "891204    24\n",
      "891205    34\n",
      "891206    25\n",
      "891207    41\n",
      "891208    14\n",
      "891209    51\n",
      "891210    41\n",
      "891211    51\n",
      "891212    51\n",
      "891213    34\n",
      "891214    23\n",
      "891215    31\n",
      "891216    41\n",
      "891217    51\n",
      "891218    24\n",
      "891219    51\n",
      "891220    43\n",
      "Name: CAMEO_INTL_2015, Length: 780153, dtype: object>\n"
     ]
    }
   ],
   "source": [
    "# Investigate \"CAMEO_INTL_2015\" and engineer two new variables.\n",
    "print(azdias['CAMEO_INTL_2015'].describe)\n",
    "azdias['CAMEO_INTL_2015']=azdias['CAMEO_INTL_2015'].astype(float)\n",
    "wealth=[]\n",
    "life_stage=[]\n",
    "for i in azdias['CAMEO_INTL_2015']:\n",
    "    if i//10%10==1.0:\n",
    "        wealth.append(0)\n",
    "    elif i//10%10==2.0:\n",
    "        wealth.append(1)\n",
    "    elif i//10%10==3.0:\n",
    "        wealth.append(2)\n",
    "    elif i//10%10==4.0:\n",
    "        wealth.append(3)\n",
    "    elif i//10%10==5.0:\n",
    "        wealth.append(4)\n",
    "    else:\n",
    "        wealth.append(np.nan)\n",
    "    if i%10==1.0:\n",
    "        life_stage.append(0)\n",
    "    elif i%10==2.0:\n",
    "        life_stage.append(1)\n",
    "    elif i%10==3.0:\n",
    "        life_stage.append(2)\n",
    "    elif i%10==4.0:\n",
    "        life_stage.append(3)\n",
    "    elif i%10==5.0:\n",
    "        life_stage.append(4)\n",
    "    else:\n",
    "        life_stage.append(np.nan)\n",
    "azdias['CAMEO_INTL_2015_wealth']=wealth\n",
    "azdias['CAMEO_INTL_2015_life_stage']=life_stage"
   ]
  },
  {
   "cell_type": "code",
   "execution_count": 29,
   "metadata": {
    "scrolled": true
   },
   "outputs": [],
   "source": [
    "azdias=azdias.drop(mixed,axis=1)"
   ]
  },
  {
   "cell_type": "markdown",
   "metadata": {},
   "source": [
    "#### Discussion 1.2.2: Engineer Mixed-Type Features\n",
    "\n",
    "(Double-click this cell and replace this text with your own text, reporting your findings and decisions regarding mixed-value features. Which ones did you keep, which did you drop, and what engineering steps did you perform?)"
   ]
  },
  {
   "cell_type": "markdown",
   "metadata": {},
   "source": [
    "#### Step 1.2.3: Complete Feature Selection\n",
    "\n",
    "In order to finish this step up, you need to make sure that your data frame now only has the columns that you want to keep. To summarize, the dataframe should consist of the following:\n",
    "- All numeric, interval, and ordinal type columns from the original dataset.\n",
    "- Binary categorical features (all numerically-encoded).\n",
    "- Engineered features from other multi-level categorical features and mixed features.\n",
    "\n",
    "Make sure that for any new columns that you have engineered, that you've excluded the original columns from the final dataset. Otherwise, their values will interfere with the analysis later on the project. For example, you should not keep \"PRAEGENDE_JUGENDJAHRE\", since its values won't be useful for the algorithm: only the values derived from it in the engineered features you created should be retained. As a reminder, your data should only be from **the subset with few or no missing values**."
   ]
  },
  {
   "cell_type": "code",
   "execution_count": 30,
   "metadata": {},
   "outputs": [
    {
     "name": "stdout",
     "output_type": "stream",
     "text": [
      "<class 'pandas.core.frame.DataFrame'>\n",
      "Int64Index: 780153 entries, 1 to 891220\n",
      "Data columns (total 64 columns):\n",
      "ALTERSKATEGORIE_GROB             777528 non-null float64\n",
      "ANREDE_KZ                        780153 non-null float64\n",
      "FINANZ_MINIMALIST                780153 non-null float64\n",
      "FINANZ_SPARER                    780153 non-null float64\n",
      "FINANZ_VORSORGER                 780153 non-null float64\n",
      "FINANZ_ANLEGER                   780153 non-null float64\n",
      "FINANZ_UNAUFFAELLIGER            780153 non-null float64\n",
      "FINANZ_HAUSBAUER                 780153 non-null float64\n",
      "GREEN_AVANTGARDE                 780153 non-null int64\n",
      "HEALTH_TYP                       745629 non-null float64\n",
      "RETOURTYP_BK_S                   776319 non-null float64\n",
      "SEMIO_SOZ                        780153 non-null float64\n",
      "SEMIO_FAM                        780153 non-null float64\n",
      "SEMIO_REL                        780153 non-null float64\n",
      "SEMIO_MAT                        780153 non-null float64\n",
      "SEMIO_VERT                       780153 non-null float64\n",
      "SEMIO_LUST                       780153 non-null float64\n",
      "SEMIO_ERL                        780153 non-null float64\n",
      "SEMIO_KULT                       780153 non-null float64\n",
      "SEMIO_RAT                        780153 non-null float64\n",
      "SEMIO_KRIT                       780153 non-null float64\n",
      "SEMIO_DOM                        780153 non-null float64\n",
      "SEMIO_KAEM                       780153 non-null float64\n",
      "SEMIO_PFLICHT                    780153 non-null float64\n",
      "SEMIO_TRADV                      780153 non-null float64\n",
      "SOHO_KZ                          780153 non-null float64\n",
      "VERS_TYP                         745629 non-null float64\n",
      "ANZ_PERSONEN                     780153 non-null float64\n",
      "ANZ_TITEL                        780153 non-null float64\n",
      "HH_EINKOMMEN_SCORE               780153 non-null float64\n",
      "W_KEIT_KIND_HH                   723871 non-null float64\n",
      "WOHNDAUER_2008                   780153 non-null float64\n",
      "ANZ_HAUSHALTE_AKTIV              774413 non-null float64\n",
      "ANZ_HH_TITEL                     776920 non-null float64\n",
      "KONSUMNAEHE                      780102 non-null float64\n",
      "MIN_GEBAEUDEJAHR                 780153 non-null float64\n",
      "OST_WEST_KZ                      780153 non-null int64\n",
      "KBA05_ANTG1                      755696 non-null float64\n",
      "KBA05_ANTG2                      755696 non-null float64\n",
      "KBA05_ANTG3                      755696 non-null float64\n",
      "KBA05_ANTG4                      755696 non-null float64\n",
      "KBA05_GBZ                        755696 non-null float64\n",
      "BALLRAUM                         779610 non-null float64\n",
      "EWDICHTE                         779610 non-null float64\n",
      "INNENSTADT                       779610 non-null float64\n",
      "GEBAEUDETYP_RASTER               780148 non-null float64\n",
      "KKK                              725375 non-null float64\n",
      "MOBI_REGIO                       755696 non-null float64\n",
      "ONLINE_AFFINITAET                776319 non-null float64\n",
      "REGIOTYP                         725375 non-null float64\n",
      "KBA13_ANZAHL_PKW                 774493 non-null float64\n",
      "PLZ8_ANTG1                       772038 non-null float64\n",
      "PLZ8_ANTG2                       772038 non-null float64\n",
      "PLZ8_ANTG3                       772038 non-null float64\n",
      "PLZ8_ANTG4                       772038 non-null float64\n",
      "PLZ8_HHZ                         772038 non-null float64\n",
      "PLZ8_GBZ                         772038 non-null float64\n",
      "ARBEIT                           776154 non-null float64\n",
      "ORTSGR_KLS9                      776246 non-null float64\n",
      "RELAT_AB                         776154 non-null float64\n",
      "PRAEGENDE_JUGENDJAHR_MOVEMENT    753679 non-null float64\n",
      "PRAEGENDE_JUGENDJAHR_DECADE      753679 non-null float64\n",
      "CAMEO_INTL_2015_wealth           776497 non-null float64\n",
      "CAMEO_INTL_2015_life_stage       776497 non-null float64\n",
      "dtypes: float64(62), int64(2)\n",
      "memory usage: 406.9 MB\n"
     ]
    }
   ],
   "source": [
    "# If there are other re-engineering tasks you need to perform, make sure you\n",
    "# take care of them here. (Dealing with missing data will come in step 2.1.)\n",
    "azdias.info()\n"
   ]
  },
  {
   "cell_type": "code",
   "execution_count": 31,
   "metadata": {},
   "outputs": [
    {
     "name": "stdout",
     "output_type": "stream",
     "text": [
      "<class 'pandas.core.frame.DataFrame'>\n",
      "Int64Index: 780153 entries, 1 to 891220\n",
      "Data columns (total 64 columns):\n",
      "ALTERSKATEGORIE_GROB             777528 non-null float64\n",
      "ANREDE_KZ                        780153 non-null float64\n",
      "FINANZ_MINIMALIST                780153 non-null float64\n",
      "FINANZ_SPARER                    780153 non-null float64\n",
      "FINANZ_VORSORGER                 780153 non-null float64\n",
      "FINANZ_ANLEGER                   780153 non-null float64\n",
      "FINANZ_UNAUFFAELLIGER            780153 non-null float64\n",
      "FINANZ_HAUSBAUER                 780153 non-null float64\n",
      "GREEN_AVANTGARDE                 780153 non-null int64\n",
      "HEALTH_TYP                       745629 non-null float64\n",
      "RETOURTYP_BK_S                   776319 non-null float64\n",
      "SEMIO_SOZ                        780153 non-null float64\n",
      "SEMIO_FAM                        780153 non-null float64\n",
      "SEMIO_REL                        780153 non-null float64\n",
      "SEMIO_MAT                        780153 non-null float64\n",
      "SEMIO_VERT                       780153 non-null float64\n",
      "SEMIO_LUST                       780153 non-null float64\n",
      "SEMIO_ERL                        780153 non-null float64\n",
      "SEMIO_KULT                       780153 non-null float64\n",
      "SEMIO_RAT                        780153 non-null float64\n",
      "SEMIO_KRIT                       780153 non-null float64\n",
      "SEMIO_DOM                        780153 non-null float64\n",
      "SEMIO_KAEM                       780153 non-null float64\n",
      "SEMIO_PFLICHT                    780153 non-null float64\n",
      "SEMIO_TRADV                      780153 non-null float64\n",
      "SOHO_KZ                          780153 non-null float64\n",
      "VERS_TYP                         745629 non-null float64\n",
      "ANZ_PERSONEN                     780153 non-null float64\n",
      "ANZ_TITEL                        780153 non-null float64\n",
      "HH_EINKOMMEN_SCORE               780153 non-null float64\n",
      "W_KEIT_KIND_HH                   723871 non-null float64\n",
      "WOHNDAUER_2008                   780153 non-null float64\n",
      "ANZ_HAUSHALTE_AKTIV              774413 non-null float64\n",
      "ANZ_HH_TITEL                     776920 non-null float64\n",
      "KONSUMNAEHE                      780102 non-null float64\n",
      "MIN_GEBAEUDEJAHR                 780153 non-null float64\n",
      "OST_WEST_KZ                      780153 non-null int64\n",
      "KBA05_ANTG1                      755696 non-null float64\n",
      "KBA05_ANTG2                      755696 non-null float64\n",
      "KBA05_ANTG3                      755696 non-null float64\n",
      "KBA05_ANTG4                      755696 non-null float64\n",
      "KBA05_GBZ                        755696 non-null float64\n",
      "BALLRAUM                         779610 non-null float64\n",
      "EWDICHTE                         779610 non-null float64\n",
      "INNENSTADT                       779610 non-null float64\n",
      "GEBAEUDETYP_RASTER               780148 non-null float64\n",
      "KKK                              725375 non-null float64\n",
      "MOBI_REGIO                       755696 non-null float64\n",
      "ONLINE_AFFINITAET                776319 non-null float64\n",
      "REGIOTYP                         725375 non-null float64\n",
      "KBA13_ANZAHL_PKW                 774493 non-null float64\n",
      "PLZ8_ANTG1                       772038 non-null float64\n",
      "PLZ8_ANTG2                       772038 non-null float64\n",
      "PLZ8_ANTG3                       772038 non-null float64\n",
      "PLZ8_ANTG4                       772038 non-null float64\n",
      "PLZ8_HHZ                         772038 non-null float64\n",
      "PLZ8_GBZ                         772038 non-null float64\n",
      "ARBEIT                           776154 non-null float64\n",
      "ORTSGR_KLS9                      776246 non-null float64\n",
      "RELAT_AB                         776154 non-null float64\n",
      "PRAEGENDE_JUGENDJAHR_MOVEMENT    753679 non-null float64\n",
      "PRAEGENDE_JUGENDJAHR_DECADE      753679 non-null float64\n",
      "CAMEO_INTL_2015_wealth           776497 non-null float64\n",
      "CAMEO_INTL_2015_life_stage       776497 non-null float64\n",
      "dtypes: float64(62), int64(2)\n",
      "memory usage: 386.9 MB\n"
     ]
    }
   ],
   "source": [
    "# Do whatever you need to in order to ensure that the dataframe only contains\n",
    "# the columns that should be passed to the algorithm functions.\n",
    "d=azdias.select_dtypes(include='object')\n",
    "azdias=azdias.drop(d.columns,axis=1)\n",
    "azdias.info()"
   ]
  },
  {
   "cell_type": "markdown",
   "metadata": {},
   "source": [
    "### Step 1.3: Create a Cleaning Function\n",
    "\n",
    "Even though you've finished cleaning up the general population demographics data, it's important to look ahead to the future and realize that you'll need to perform the same cleaning steps on the customer demographics data. In this substep, complete the function below to execute the main feature selection, encoding, and re-engineering steps you performed above. Then, when it comes to looking at the customer data in Step 3, you can just run this function on that DataFrame to get the trimmed dataset in a single step."
   ]
  },
  {
   "cell_type": "code",
   "execution_count": 32,
   "metadata": {},
   "outputs": [],
   "source": [
    "def clean_data(df):\n",
    "    \"\"\"\n",
    "    Perform feature trimming, re-encoding, and engineering for demographics\n",
    "    data\n",
    "    \n",
    "    INPUT: Demographics DataFrame\n",
    "    OUTPUT: Trimmed and cleaned demographics DataFrame\n",
    "    \"\"\"\n",
    "    feat_info = pd.read_csv('AZDIAS_Feature_Summary.csv',delimiter=';')\n",
    "    # Put in code here to execute all main cleaning steps:\n",
    "    # convert missing value codes into NaNs, ...\n",
    "    feat_info['missing_or_unknown'] = feat_info['missing_or_unknown'].apply(lambda x: x.strip('[]').split(','))\n",
    "    for attribute, missing_or_unknown in zip(feat_info['attribute'], feat_info['missing_or_unknown']):\n",
    "        if missing_or_unknown[0] != '':\n",
    "            for val in missing_or_unknown:\n",
    "                if val.isnumeric() or val.lstrip('-').isnumeric():\n",
    "                    df.loc[df[attribute] == int(val), attribute] = np.nan\n",
    "                else:\n",
    "                    df.loc[df[attribute] == val, attribute] = np.nan\n",
    "    \n",
    "    # remove selected columns and rows, ...\n",
    "    #missing_cols = (df.isnull().sum()/len(df))*100\n",
    "    \n",
    "    df.drop(['AGER_TYP', 'GEBURTSJAHR', 'TITEL_KZ', 'ALTER_HH', 'KK_KUNDENTYP', 'KBA05_BAUMAX'],axis=1,inplace=True)\n",
    "    #drop_columns = list(df.isnull().sum()[(df.isnull().sum()>300000) | (missing_cols>20)].index)\n",
    "    #df.drop(drop_columns,axis='columns',inplace=True)\n",
    "    \n",
    "    #sub1 = df[df.isnull().sum(axis=1)>10]\n",
    "    #sub2 = df[df.isnull().sum(axis=1)<=10]\n",
    "    #df=sub2\n",
    "    \n",
    "    # select, re-encode, and engineer column values.\n",
    "    categorical_features=feat_info[feat_info['type']=='categorical']['attribute'].values\n",
    "    categorical_features=[x for x in categorical_features if x in df.columns]\n",
    "    binary_cols = [x for x in categorical_features if df[x].nunique()==2]\n",
    "    multilevel = [x for x in categorical_features if df[x].nunique()>2]\n",
    "    \n",
    "    df['OST_WEST_KZ']=df['OST_WEST_KZ'].replace({'W':1,'O':0})\n",
    "    df.drop(multilevel,axis=1,inplace=True)\n",
    "    #from sklearn.preprocessing import OneHotEncoder\n",
    "    #ohe=OneHotEncoder()\n",
    "    mixed=feat_info[feat_info['type']=='mixed']['attribute'].values\n",
    "    mixed=[x for x in mixed if x in df.columns]\n",
    "    Movement =[]\n",
    "    Decade=[]\n",
    "    for values in df['PRAEGENDE_JUGENDJAHRE']:\n",
    "        #Mapping to Movement\n",
    "        if values in [1.0,3.0,5.0,8.0,10.0,12.0,14.0]:\n",
    "            Movement.append(0.0)\n",
    "        elif values in [2.0,4.0,6.0,7.0,9.0,11.0,13.0,15.0]:\n",
    "            Movement.append(1.0)\n",
    "        else:\n",
    "            Movement.append(np.nan)\n",
    "        #Maping to Decade\n",
    "        if values in [1.0,2.0]:\n",
    "            Decade.append(40.0)\n",
    "        elif values in [3.0, 4.0]:\n",
    "            Decade.append(50.0)\n",
    "        elif values in [5.0,6.0,7.0]:\n",
    "            Decade.append(60.0)\n",
    "        elif values in [8.0,9.0]:\n",
    "            Decade.append(70.0)\n",
    "        elif values in [10.0,11.0,12.0,13.0]:\n",
    "            Decade.append(80)\n",
    "        elif values in [14.0,15.0]:\n",
    "            Decade.append(90)\n",
    "        else:\n",
    "            Decade.append(np.nan)\n",
    "    df['PRAEGENDE_JUGENDJAHR_MOVEMENT']=Movement\n",
    "    df['PRAEGENDE_JUGENDJAHR_DECADE']=Decade\n",
    "    df['CAMEO_INTL_2015']=df['CAMEO_INTL_2015'].astype(float)\n",
    "    \n",
    "    wealth=[]\n",
    "    life_stage=[]\n",
    "    for i in df['CAMEO_INTL_2015']:\n",
    "        if i//10%10==1.0:\n",
    "            wealth.append(0)\n",
    "        elif i//10%10==2.0:\n",
    "            wealth.append(1)\n",
    "        elif i//10%10==3.0:\n",
    "            wealth.append(2)\n",
    "        elif i//10%10==4.0:\n",
    "            wealth.append(3)\n",
    "        elif i//10%10==5.0:\n",
    "            wealth.append(4)\n",
    "        else:\n",
    "            wealth.append(np.nan)\n",
    "        if i%10==1.0:\n",
    "            life_stage.append(0)\n",
    "        elif i%10==2.0:\n",
    "            life_stage.append(1)\n",
    "        elif i%10==3.0:\n",
    "            life_stage.append(2)\n",
    "        elif i%10==4.0:\n",
    "            life_stage.append(3)\n",
    "        elif i%10==5.0:\n",
    "            life_stage.append(4)\n",
    "        else:\n",
    "            life_stage.append(np.nan)\n",
    "    df['CAMEO_INTL_2015_wealth']=wealth\n",
    "    df['CAMEO_INTL_2015_life_stage']=life_stage\n",
    "    df.drop(mixed,axis=1,inplace=True)\n",
    "    d=df.select_dtypes(include='object')\n",
    "    df=df.drop(d.columns,axis=1)\n",
    "    # Return the cleaned dataframe.\n",
    "    return df\n",
    "    "
   ]
  },
  {
   "cell_type": "markdown",
   "metadata": {},
   "source": [
    "## Step 2: Feature Transformation\n",
    "\n",
    "### Step 2.1: Apply Feature Scaling\n",
    "\n",
    "Before we apply dimensionality reduction techniques to the data, we need to perform feature scaling so that the principal component vectors are not influenced by the natural differences in scale for features. Starting from this part of the project, you'll want to keep an eye on the [API reference page for sklearn](http://scikit-learn.org/stable/modules/classes.html) to help you navigate to all of the classes and functions that you'll need. In this substep, you'll need to check the following:\n",
    "\n",
    "- sklearn requires that data not have missing values in order for its estimators to work properly. So, before applying the scaler to your data, make sure that you've cleaned the DataFrame of the remaining missing values. This can be as simple as just removing all data points with missing data, or applying an [Imputer](https://scikit-learn.org/0.16/modules/generated/sklearn.preprocessing.Imputer.html) to replace all missing values. You might also try a more complicated procedure where you temporarily remove missing values in order to compute the scaling parameters before re-introducing those missing values and applying imputation. Think about how much missing data you have and what possible effects each approach might have on your analysis, and justify your decision in the discussion section below.\n",
    "- For the actual scaling function, a [StandardScaler](http://scikit-learn.org/stable/modules/generated/sklearn.preprocessing.StandardScaler.html) instance is suggested, scaling each feature to mean 0 and standard deviation 1.\n",
    "- For these classes, you can make use of the `.fit_transform()` method to both fit a procedure to the data as well as apply the transformation to the data at the same time. Don't forget to keep the fit sklearn objects handy, since you'll be applying them to the customer demographics data towards the end of the project."
   ]
  },
  {
   "cell_type": "code",
   "execution_count": 33,
   "metadata": {},
   "outputs": [],
   "source": [
    "# If you've not yet cleaned the dataset of all NaN values, then investigate and\n",
    "# do that now.\n",
    "from sklearn.preprocessing import Imputer, StandardScaler\n",
    "\n",
    "imputer = Imputer(strategy = 'mean')\n",
    "imp=imputer.fit_transform(azdias)\n",
    "azdias = pd.DataFrame(imp, columns= azdias.columns)"
   ]
  },
  {
   "cell_type": "code",
   "execution_count": 34,
   "metadata": {},
   "outputs": [
    {
     "data": {
      "text/plain": [
       "0"
      ]
     },
     "execution_count": 34,
     "metadata": {},
     "output_type": "execute_result"
    }
   ],
   "source": [
    "import numpy as np\n",
    "azdias.isnull().sum().sum()"
   ]
  },
  {
   "cell_type": "code",
   "execution_count": 35,
   "metadata": {},
   "outputs": [],
   "source": [
    "# Apply feature scaling to the general population demographics data.\n",
    "scaler=StandardScaler()\n",
    "azdias=pd.DataFrame(scaler.fit_transform(azdias),columns=azdias.columns)"
   ]
  },
  {
   "cell_type": "markdown",
   "metadata": {},
   "source": [
    "### Discussion 2.1: Apply Feature Scaling\n",
    "\n",
    "(Double-click this cell and replace this text with your own text, reporting your decisions regarding feature scaling.)"
   ]
  },
  {
   "cell_type": "markdown",
   "metadata": {},
   "source": [
    "### Step 2.2: Perform Dimensionality Reduction\n",
    "\n",
    "On your scaled data, you are now ready to apply dimensionality reduction techniques.\n",
    "\n",
    "- Use sklearn's [PCA](http://scikit-learn.org/stable/modules/generated/sklearn.decomposition.PCA.html) class to apply principal component analysis on the data, thus finding the vectors of maximal variance in the data. To start, you should not set any parameters (so all components are computed) or set a number of components that is at least half the number of features (so there's enough features to see the general trend in variability).\n",
    "- Check out the ratio of variance explained by each principal component as well as the cumulative variance explained. Try plotting the cumulative or sequential values using matplotlib's [`plot()`](https://matplotlib.org/api/_as_gen/matplotlib.pyplot.plot.html) function. Based on what you find, select a value for the number of transformed features you'll retain for the clustering part of the project.\n",
    "- Once you've made a choice for the number of components to keep, make sure you re-fit a PCA instance to perform the decided-on transformation."
   ]
  },
  {
   "cell_type": "code",
   "execution_count": 36,
   "metadata": {},
   "outputs": [],
   "source": [
    "# Apply PCA to the data.\n",
    "from sklearn.decomposition import PCA\n",
    "pca=PCA()\n",
    "azpca=pca.fit_transform(azdias)"
   ]
  },
  {
   "cell_type": "code",
   "execution_count": 37,
   "metadata": {},
   "outputs": [
    {
     "data": {
      "image/png": "[encoded data removed]",
      "text/plain": [
       "<matplotlib.figure.Figure at 0x7f88cd07aa20>"
      ]
     },
     "metadata": {
      "needs_background": "light"
     },
     "output_type": "display_data"
    }
   ],
   "source": [
    "# Investigate the variance accounted for by each principal component.\n",
    "def scree_plot(pca):\n",
    " \n",
    "    num_components = len(pca.explained_variance_ratio_)\n",
    "    ind = np.arange(num_components)\n",
    "    vals = pca.explained_variance_ratio_\n",
    " \n",
    "    plt.figure(figsize=(16, 8))\n",
    "    ax = plt.subplot(111)\n",
    "    cumvals = np.cumsum(vals)\n",
    "    ax.bar(ind, vals)\n",
    "    ax.plot(ind, cumvals)\n",
    "    for i in range(num_components):\n",
    "        ax.annotate(r\"%s%%\" % ((str(vals[i]*100)[:4])), (ind[i]+0.2, vals[i]), va=\"bottom\", ha=\"center\", fontsize=6)\n",
    " \n",
    "    ax.xaxis.set_tick_params(width=2)\n",
    "    ax.yaxis.set_tick_params(width=0, length=12)\n",
    " \n",
    "    ax.set_xlabel(\"Principal Component\")\n",
    "    ax.set_ylabel(\"Variance Explained (%)\")\n",
    "    plt.title('Explained Variance Per Principal Component')\n",
    "    \n",
    "\n",
    "scree_plot(pca)\n"
   ]
  },
  {
   "cell_type": "code",
   "execution_count": 38,
   "metadata": {},
   "outputs": [
    {
     "data": {
      "text/plain": [
       "43"
      ]
     },
     "execution_count": 38,
     "metadata": {},
     "output_type": "execute_result"
    }
   ],
   "source": [
    "# Re-apply PCA to the data while selecting for number of components to retain.\n",
    "cumsum=np.cumsum(pca.explained_variance_ratio_)\n",
    "d=np.argmax(cumsum>=0.95)+1\n",
    "d"
   ]
  },
  {
   "cell_type": "code",
   "execution_count": 39,
   "metadata": {},
   "outputs": [],
   "source": [
    "pca=PCA(43)\n",
    "azpca=pca.fit_transform(azdias)"
   ]
  },
  {
   "cell_type": "code",
   "execution_count": 40,
   "metadata": {},
   "outputs": [
    {
     "data": {
      "text/plain": [
       "0.95107243449477352"
      ]
     },
     "execution_count": 40,
     "metadata": {},
     "output_type": "execute_result"
    }
   ],
   "source": [
    "pca.explained_variance_ratio_.sum()"
   ]
  },
  {
   "cell_type": "markdown",
   "metadata": {},
   "source": [
    "### Discussion 2.2: Perform Dimensionality Reduction\n",
    "\n",
    "(Double-click this cell and replace this text with your own text, reporting your findings and decisions regarding dimensionality reduction. How many principal components / transformed features are you retaining for the next step of the analysis?)"
   ]
  },
  {
   "cell_type": "markdown",
   "metadata": {},
   "source": [
    "### Step 2.3: Interpret Principal Components\n",
    "\n",
    "Now that we have our transformed principal components, it's a nice idea to check out the weight of each variable on the first few components to see if they can be interpreted in some fashion.\n",
    "\n",
    "As a reminder, each principal component is a unit vector that points in the direction of highest variance (after accounting for the variance captured by earlier principal components). The further a weight is from zero, the more the principal component is in the direction of the corresponding feature. If two features have large weights of the same sign (both positive or both negative), then increases in one tend expect to be associated with increases in the other. To contrast, features with different signs can be expected to show a negative correlation: increases in one variable should result in a decrease in the other.\n",
    "\n",
    "- To investigate the features, you should map each weight to their corresponding feature name, then sort the features according to weight. The most interesting features for each principal component, then, will be those at the beginning and end of the sorted list. Use the data dictionary document to help you understand these most prominent features, their relationships, and what a positive or negative value on the principal component might indicate.\n",
    "- You should investigate and interpret feature associations from the first three principal components in this substep. To help facilitate this, you should write a function that you can call at any time to print the sorted list of feature weights, for the *i*-th principal component. This might come in handy in the next step of the project, when you interpret the tendencies of the discovered clusters."
   ]
  },
  {
   "cell_type": "code",
   "execution_count": 41,
   "metadata": {},
   "outputs": [
    {
     "data": {
      "text/plain": [
       "PLZ8_ANTG3                       0.226916\n",
       "PLZ8_ANTG4                       0.220064\n",
       "CAMEO_INTL_2015_wealth           0.207770\n",
       "HH_EINKOMMEN_SCORE               0.204409\n",
       "ORTSGR_KLS9                      0.197644\n",
       "EWDICHTE                         0.195882\n",
       "FINANZ_HAUSBAUER                 0.163222\n",
       "PLZ8_ANTG2                       0.154399\n",
       "KBA05_ANTG4                      0.153201\n",
       "FINANZ_SPARER                    0.144051\n",
       "ARBEIT                           0.143975\n",
       "ANZ_HAUSHALTE_AKTIV              0.135930\n",
       "RELAT_AB                         0.135684\n",
       "KBA05_ANTG3                      0.135537\n",
       "SEMIO_PFLICHT                    0.112671\n",
       "SEMIO_REL                        0.109822\n",
       "PRAEGENDE_JUGENDJAHR_DECADE      0.099203\n",
       "SEMIO_RAT                        0.092648\n",
       "SEMIO_TRADV                      0.086114\n",
       "SEMIO_MAT                        0.077450\n",
       "SEMIO_FAM                        0.076244\n",
       "REGIOTYP                         0.073146\n",
       "FINANZ_UNAUFFAELLIGER            0.072558\n",
       "SEMIO_KULT                       0.070330\n",
       "FINANZ_ANLEGER                   0.067153\n",
       "KKK                              0.044111\n",
       "SEMIO_SOZ                        0.041693\n",
       "PLZ8_HHZ                         0.041657\n",
       "SEMIO_KAEM                       0.040235\n",
       "W_KEIT_KIND_HH                   0.036858\n",
       "                                   ...   \n",
       "KBA05_ANTG2                      0.008938\n",
       "ANREDE_KZ                        0.007892\n",
       "SEMIO_KRIT                       0.005227\n",
       "SOHO_KZ                         -0.001960\n",
       "ANZ_TITEL                       -0.004232\n",
       "RETOURTYP_BK_S                  -0.016722\n",
       "SEMIO_VERT                      -0.040197\n",
       "ONLINE_AFFINITAET               -0.045801\n",
       "OST_WEST_KZ                     -0.053914\n",
       "MIN_GEBAEUDEJAHR                -0.058368\n",
       "WOHNDAUER_2008                  -0.060718\n",
       "SEMIO_LUST                      -0.071621\n",
       "SEMIO_ERL                       -0.074176\n",
       "KBA13_ANZAHL_PKW                -0.078582\n",
       "ANZ_PERSONEN                    -0.079402\n",
       "PRAEGENDE_JUGENDJAHR_MOVEMENT   -0.107984\n",
       "GREEN_AVANTGARDE                -0.110280\n",
       "FINANZ_VORSORGER                -0.111831\n",
       "ALTERSKATEGORIE_GROB            -0.116865\n",
       "GEBAEUDETYP_RASTER              -0.117373\n",
       "CAMEO_INTL_2015_life_stage      -0.125266\n",
       "BALLRAUM                        -0.127402\n",
       "INNENSTADT                      -0.164959\n",
       "PLZ8_GBZ                        -0.168027\n",
       "KONSUMNAEHE                     -0.168210\n",
       "KBA05_GBZ                       -0.217418\n",
       "FINANZ_MINIMALIST               -0.218579\n",
       "KBA05_ANTG1                     -0.225873\n",
       "PLZ8_ANTG1                      -0.226532\n",
       "MOBI_REGIO                      -0.242369\n",
       "Name: 0, Length: 64, dtype: float64"
      ]
     },
     "execution_count": 41,
     "metadata": {},
     "output_type": "execute_result"
    }
   ],
   "source": [
    "# Map weights for the first principal component to corresponding feature names\n",
    "# and then print the linked values, sorted by weight.\n",
    "# HINT: Try defining a function here or in a new cell that you can reuse in the\n",
    "# other cells.\n",
    "# dfpca=pd.DataFrame(azdias, index=azdias.index)\n",
    "\n",
    "# pca_columns = ['PC' + str(i+1) for i in range(pca.n_components_)]\n",
    "# dfpca.columns = pca_columns\n",
    "\n",
    "# dfpca.head()\n",
    "def weights(i,pca):\n",
    "    dfpca=pd.DataFrame(pca.components_,columns=azdias.columns)\n",
    "    weights = dfpca.iloc[i].sort_values(ascending=False)\n",
    "    return weights\n",
    "weights(0,pca)"
   ]
  },
  {
   "cell_type": "code",
   "execution_count": 42,
   "metadata": {},
   "outputs": [
    {
     "data": {
      "text/plain": [
       "ALTERSKATEGORIE_GROB             0.260661\n",
       "FINANZ_VORSORGER                 0.233291\n",
       "SEMIO_ERL                        0.230849\n",
       "SEMIO_LUST                       0.183091\n",
       "RETOURTYP_BK_S                   0.164124\n",
       "W_KEIT_KIND_HH                   0.118493\n",
       "SEMIO_KRIT                       0.116364\n",
       "FINANZ_HAUSBAUER                 0.114645\n",
       "SEMIO_KAEM                       0.111438\n",
       "PLZ8_ANTG3                       0.090983\n",
       "ANREDE_KZ                        0.089832\n",
       "EWDICHTE                         0.089547\n",
       "ORTSGR_KLS9                      0.088109\n",
       "PLZ8_ANTG4                       0.086845\n",
       "CAMEO_INTL_2015_wealth           0.071748\n",
       "SEMIO_DOM                        0.069345\n",
       "FINANZ_MINIMALIST                0.068709\n",
       "KBA05_ANTG4                      0.067329\n",
       "ARBEIT                           0.065403\n",
       "RELAT_AB                         0.063091\n",
       "PLZ8_ANTG2                       0.062726\n",
       "ANZ_HAUSHALTE_AKTIV              0.060971\n",
       "WOHNDAUER_2008                   0.059792\n",
       "HH_EINKOMMEN_SCORE               0.052478\n",
       "KBA05_ANTG3                      0.041542\n",
       "VERS_TYP                         0.032665\n",
       "ANZ_HH_TITEL                     0.030560\n",
       "REGIOTYP                         0.021072\n",
       "PLZ8_HHZ                         0.012528\n",
       "ANZ_TITEL                        0.007121\n",
       "                                   ...   \n",
       "PRAEGENDE_JUGENDJAHR_MOVEMENT   -0.012201\n",
       "GREEN_AVANTGARDE                -0.014134\n",
       "OST_WEST_KZ                     -0.024843\n",
       "KBA13_ANZAHL_PKW                -0.034912\n",
       "GEBAEUDETYP_RASTER              -0.041950\n",
       "MIN_GEBAEUDEJAHR                -0.046963\n",
       "HEALTH_TYP                      -0.058569\n",
       "BALLRAUM                        -0.059196\n",
       "ANZ_PERSONEN                    -0.061048\n",
       "KONSUMNAEHE                     -0.067172\n",
       "SEMIO_VERT                      -0.068778\n",
       "PLZ8_GBZ                        -0.070082\n",
       "INNENSTADT                      -0.072520\n",
       "KBA05_ANTG1                     -0.076199\n",
       "KBA05_GBZ                       -0.085703\n",
       "MOBI_REGIO                      -0.086099\n",
       "PLZ8_ANTG1                      -0.088368\n",
       "SEMIO_SOZ                       -0.102996\n",
       "SEMIO_MAT                       -0.162743\n",
       "ONLINE_AFFINITAET               -0.164025\n",
       "SEMIO_RAT                       -0.171583\n",
       "SEMIO_FAM                       -0.183658\n",
       "FINANZ_ANLEGER                  -0.205319\n",
       "SEMIO_KULT                      -0.220275\n",
       "FINANZ_UNAUFFAELLIGER           -0.227328\n",
       "SEMIO_PFLICHT                   -0.229590\n",
       "SEMIO_TRADV                     -0.231729\n",
       "FINANZ_SPARER                   -0.236306\n",
       "PRAEGENDE_JUGENDJAHR_DECADE     -0.251596\n",
       "SEMIO_REL                       -0.255824\n",
       "Name: 1, Length: 64, dtype: float64"
      ]
     },
     "execution_count": 42,
     "metadata": {},
     "output_type": "execute_result"
    }
   ],
   "source": [
    "# Map weights for the second principal component to corresponding feature names\n",
    "# and then print the linked values, sorted by weight.\n",
    "weights(1,pca)\n"
   ]
  },
  {
   "cell_type": "code",
   "execution_count": 43,
   "metadata": {},
   "outputs": [
    {
     "data": {
      "text/plain": [
       "SEMIO_VERT                       0.346302\n",
       "SEMIO_SOZ                        0.263440\n",
       "SEMIO_FAM                        0.250183\n",
       "SEMIO_KULT                       0.234318\n",
       "FINANZ_MINIMALIST                0.156292\n",
       "RETOURTYP_BK_S                   0.108787\n",
       "FINANZ_VORSORGER                 0.100357\n",
       "W_KEIT_KIND_HH                   0.090580\n",
       "ALTERSKATEGORIE_GROB             0.078690\n",
       "SEMIO_REL                        0.070223\n",
       "SEMIO_LUST                       0.064149\n",
       "SEMIO_MAT                        0.054811\n",
       "GREEN_AVANTGARDE                 0.048381\n",
       "ORTSGR_KLS9                      0.046838\n",
       "PRAEGENDE_JUGENDJAHR_MOVEMENT    0.046496\n",
       "EWDICHTE                         0.046316\n",
       "PLZ8_ANTG4                       0.045667\n",
       "PLZ8_ANTG3                       0.045276\n",
       "ARBEIT                           0.034540\n",
       "WOHNDAUER_2008                   0.032811\n",
       "RELAT_AB                         0.031561\n",
       "PLZ8_ANTG2                       0.030234\n",
       "KBA05_ANTG4                      0.027124\n",
       "CAMEO_INTL_2015_wealth           0.027037\n",
       "ANZ_HAUSHALTE_AKTIV              0.025363\n",
       "VERS_TYP                         0.014916\n",
       "ANZ_HH_TITEL                     0.013331\n",
       "ANZ_TITEL                        0.009827\n",
       "KBA05_ANTG3                      0.007819\n",
       "PLZ8_HHZ                         0.004229\n",
       "                                   ...   \n",
       "KBA05_ANTG2                     -0.010928\n",
       "KKK                             -0.014031\n",
       "OST_WEST_KZ                     -0.015024\n",
       "MIN_GEBAEUDEJAHR                -0.017161\n",
       "HH_EINKOMMEN_SCORE              -0.019895\n",
       "HEALTH_TYP                      -0.020025\n",
       "KBA05_ANTG1                     -0.023147\n",
       "KBA13_ANZAHL_PKW                -0.023236\n",
       "KBA05_GBZ                       -0.026544\n",
       "MOBI_REGIO                      -0.029375\n",
       "GEBAEUDETYP_RASTER              -0.030067\n",
       "BALLRAUM                        -0.034888\n",
       "KONSUMNAEHE                     -0.037654\n",
       "PLZ8_GBZ                        -0.038603\n",
       "INNENSTADT                      -0.042977\n",
       "FINANZ_HAUSBAUER                -0.044127\n",
       "PLZ8_ANTG1                      -0.046123\n",
       "ONLINE_AFFINITAET               -0.054243\n",
       "SEMIO_TRADV                     -0.078668\n",
       "SEMIO_PFLICHT                   -0.078880\n",
       "FINANZ_UNAUFFAELLIGER           -0.098763\n",
       "FINANZ_SPARER                   -0.105482\n",
       "PRAEGENDE_JUGENDJAHR_DECADE     -0.107106\n",
       "SEMIO_ERL                       -0.175422\n",
       "FINANZ_ANLEGER                  -0.188816\n",
       "SEMIO_RAT                       -0.217225\n",
       "SEMIO_KRIT                      -0.274133\n",
       "SEMIO_DOM                       -0.313967\n",
       "SEMIO_KAEM                      -0.337493\n",
       "ANREDE_KZ                       -0.369074\n",
       "Name: 2, Length: 64, dtype: float64"
      ]
     },
     "execution_count": 43,
     "metadata": {},
     "output_type": "execute_result"
    }
   ],
   "source": [
    "# Map weights for the third principal component to corresponding feature names\n",
    "# and then print the linked values, sorted by weight.\n",
    "weights(2,pca)\n"
   ]
  },
  {
   "cell_type": "markdown",
   "metadata": {},
   "source": [
    "### Discussion 2.3: Interpret Principal Components\n",
    "\n",
    "(Double-click this cell and replace this text with your own text, reporting your observations from detailed investigation of the first few principal components generated. Can we interpret positive and negative values from them in a meaningful way?)"
   ]
  },
  {
   "cell_type": "markdown",
   "metadata": {},
   "source": [
    "## Step 3: Clustering\n",
    "\n",
    "### Step 3.1: Apply Clustering to General Population\n",
    "\n",
    "You've assessed and cleaned the demographics data, then scaled and transformed them. Now, it's time to see how the data clusters in the principal components space. In this substep, you will apply k-means clustering to the dataset and use the average within-cluster distances from each point to their assigned cluster's centroid to decide on a number of clusters to keep.\n",
    "\n",
    "- Use sklearn's [KMeans](http://scikit-learn.org/stable/modules/generated/sklearn.cluster.KMeans.html#sklearn.cluster.KMeans) class to perform k-means clustering on the PCA-transformed data.\n",
    "- Then, compute the average difference from each point to its assigned cluster's center. **Hint**: The KMeans object's `.score()` method might be useful here, but note that in sklearn, scores tend to be defined so that larger is better. Try applying it to a small, toy dataset, or use an internet search to help your understanding.\n",
    "- Perform the above two steps for a number of different cluster counts. You can then see how the average distance decreases with an increasing number of clusters. However, each additional cluster provides a smaller net benefit. Use this fact to select a final number of clusters in which to group the data. **Warning**: because of the large size of the dataset, it can take a long time for the algorithm to resolve. The more clusters to fit, the longer the algorithm will take. You should test for cluster counts through at least 10 clusters to get the full picture, but you shouldn't need to test for a number of clusters above about 30.\n",
    "- Once you've selected a final number of clusters to use, re-fit a KMeans instance to perform the clustering operation. Make sure that you also obtain the cluster assignments for the general demographics data, since you'll be using them in the final Step 3.3."
   ]
  },
  {
   "cell_type": "code",
   "execution_count": 44,
   "metadata": {},
   "outputs": [],
   "source": [
    "# Over a number of different cluster counts...\n",
    "from sklearn.cluster import KMeans\n",
    "def kmeans_score(data, clusters):\n",
    "    kmeans=KMeans(n_clusters=clusters)\n",
    "    model=kmeans.fit(data)\n",
    "    score=np.abs(model.score(data))\n",
    "    return score\n",
    "    # run k-means clustering on the data and...\n",
    "    \n",
    "    \n",
    "    # compute the average within-cluster distances.\n",
    "    \n",
    "    "
   ]
  },
  {
   "cell_type": "code",
   "execution_count": 45,
   "metadata": {},
   "outputs": [
    {
     "data": {
      "text/plain": [
       "Text(0,0.5,'Score')"
      ]
     },
     "execution_count": 45,
     "metadata": {},
     "output_type": "execute_result"
    },
    {
     "data": {
      "image/png": "[encoded data removed]",
      "text/plain": [
       "<matplotlib.figure.Figure at 0x7f88ccda30b8>"
      ]
     },
     "metadata": {
      "needs_background": "light"
     },
     "output_type": "display_data"
    }
   ],
   "source": [
    "# Investigate the change in within-cluster distance across number of clusters.\n",
    "# HINT: Use matplotlib's plot function to visualize this relationship.\n",
    "s = []\n",
    "\n",
    "clusters = list(range(3,15))\n",
    "\n",
    "for cluster in clusters:\n",
    "    s.append(kmeans_score(azpca, cluster))\n",
    "\n",
    "plt.plot(clusters, s, linestyle='-', marker='o')\n",
    "plt.xlabel('Clusters')\n",
    "plt.ylabel('Score')\n"
   ]
  },
  {
   "cell_type": "code",
   "execution_count": 46,
   "metadata": {},
   "outputs": [
    {
     "data": {
      "text/plain": [
       "array([ 3,  6, 11, ...,  0,  7,  1], dtype=int32)"
      ]
     },
     "execution_count": 46,
     "metadata": {},
     "output_type": "execute_result"
    }
   ],
   "source": [
    "# Re-fit the k-means model with the selected number of clusters and obtain\n",
    "# cluster predictions for the general population demographics data.\n",
    "kmeans= KMeans(12)\n",
    "azdias_pred = kmeans.fit_predict(azpca)\n",
    "azdias_pred"
   ]
  },
  {
   "cell_type": "markdown",
   "metadata": {},
   "source": [
    "### Discussion 3.1: Apply Clustering to General Population\n",
    "\n",
    "(Double-click this cell and replace this text with your own text, reporting your findings and decisions regarding clustering. Into how many clusters have you decided to segment the population?)"
   ]
  },
  {
   "cell_type": "markdown",
   "metadata": {},
   "source": [
    "### Step 3.2: Apply All Steps to the Customer Data\n",
    "\n",
    "Now that you have clusters and cluster centers for the general population, it's time to see how the customer data maps on to those clusters. Take care to not confuse this for re-fitting all of the models to the customer data. Instead, you're going to use the fits from the general population to clean, transform, and cluster the customer data. In the last step of the project, you will interpret how the general population fits apply to the customer data.\n",
    "\n",
    "- Don't forget when loading in the customers data, that it is semicolon (`;`) delimited.\n",
    "- Apply the same feature wrangling, selection, and engineering steps to the customer demographics using the `clean_data()` function you created earlier. (You can assume that the customer demographics data has similar meaning behind missing data patterns as the general demographics data.)\n",
    "- Use the sklearn objects from the general demographics data, and apply their transformations to the customers data. That is, you should not be using a `.fit()` or `.fit_transform()` method to re-fit the old objects, nor should you be creating new sklearn objects! Carry the data through the feature scaling, PCA, and clustering steps, obtaining cluster assignments for all of the data in the customer demographics data."
   ]
  },
  {
   "cell_type": "code",
   "execution_count": 47,
   "metadata": {},
   "outputs": [],
   "source": [
    "# Load in the customer demographics data.\n",
    "customers = pd.read_csv('Udacity_CUSTOMERS_Subset.csv',delimiter=';')"
   ]
  },
  {
   "cell_type": "code",
   "execution_count": 48,
   "metadata": {},
   "outputs": [],
   "source": [
    "# Apply preprocessing, feature transformation, and clustering from the general\n",
    "# demographics onto the customer data, obtaining cluster predictions for the\n",
    "# customer demographics data.\n",
    "customers=clean_data(customers)\n",
    "#scaler=StandardScaler()\n",
    "#customers=pd.DataFrame(scaler.fit_transform(customers),columns=customers.columns)\n",
    "\n",
    "#imputer = Imputer(strategy = 'mean')\n",
    "#imp=imputer.fit_transform(customers)\n",
    "#customers = pd.DataFrame(imp, columns= customers.columns)\n",
    "\n",
    "#s = []\n",
    "\n",
    "#clusters = list(range(3,15))\n",
    "\n",
    "#for cluster in clusters:\n",
    "#    s.append(kmeans_score(azpca, cluster))\n",
    "\n",
    "#plt.plot(clusters, s, linestyle='-', marker='o')\n",
    "#plt.xlabel('Clusters')\n",
    "#plt.ylabel('Score')"
   ]
  },
  {
   "cell_type": "code",
   "execution_count": 49,
   "metadata": {},
   "outputs": [
    {
     "data": {
      "text/plain": [
       "True"
      ]
     },
     "execution_count": 49,
     "metadata": {},
     "output_type": "execute_result"
    }
   ],
   "source": [
    "len(customers.columns)==len(azdias.columns)"
   ]
  },
  {
   "cell_type": "code",
   "execution_count": 50,
   "metadata": {},
   "outputs": [
    {
     "data": {
      "text/plain": [
       "array([ True,  True,  True,  True,  True,  True,  True,  True,  True,\n",
       "        True,  True,  True,  True,  True,  True,  True,  True,  True,\n",
       "        True,  True,  True,  True,  True,  True,  True,  True,  True,\n",
       "        True,  True,  True,  True,  True,  True,  True,  True,  True,\n",
       "        True,  True,  True,  True,  True,  True,  True,  True,  True,\n",
       "        True,  True,  True,  True,  True,  True,  True,  True,  True,\n",
       "        True,  True,  True,  True,  True,  True,  True,  True,  True,  True], dtype=bool)"
      ]
     },
     "execution_count": 50,
     "metadata": {},
     "output_type": "execute_result"
    }
   ],
   "source": [
    "customers.columns.isin(azdias.columns)"
   ]
  },
  {
   "cell_type": "code",
   "execution_count": 51,
   "metadata": {},
   "outputs": [
    {
     "data": {
      "text/plain": [
       "array([ True,  True,  True,  True,  True,  True,  True,  True,  True,\n",
       "        True,  True,  True,  True,  True,  True,  True,  True,  True,\n",
       "        True,  True,  True,  True,  True,  True,  True,  True,  True,\n",
       "        True,  True,  True,  True,  True,  True,  True,  True,  True,\n",
       "        True,  True,  True,  True,  True,  True,  True,  True,  True,\n",
       "        True,  True,  True,  True,  True,  True,  True,  True,  True,\n",
       "        True,  True,  True,  True,  True,  True,  True,  True,  True,  True], dtype=bool)"
      ]
     },
     "execution_count": 51,
     "metadata": {},
     "output_type": "execute_result"
    }
   ],
   "source": [
    "azdias.columns.isin(customers.columns)"
   ]
  },
  {
   "cell_type": "code",
   "execution_count": 52,
   "metadata": {},
   "outputs": [],
   "source": [
    "\n",
    "imputer = Imputer(strategy = 'mean')\n",
    "imp=imputer.fit_transform(customers)\n",
    "customers = pd.DataFrame(imp, columns= customers.columns)"
   ]
  },
  {
   "cell_type": "code",
   "execution_count": 53,
   "metadata": {},
   "outputs": [
    {
     "data": {
      "text/plain": [
       "0"
      ]
     },
     "execution_count": 53,
     "metadata": {},
     "output_type": "execute_result"
    }
   ],
   "source": [
    "customers.isnull().sum().sum()"
   ]
  },
  {
   "cell_type": "code",
   "execution_count": 54,
   "metadata": {},
   "outputs": [],
   "source": [
    "scaler=StandardScaler()\n",
    "customers=pd.DataFrame(scaler.fit_transform(customers),columns=customers.columns)"
   ]
  },
  {
   "cell_type": "code",
   "execution_count": 55,
   "metadata": {},
   "outputs": [],
   "source": [
    "cuspca=pca.fit_transform(customers)"
   ]
  },
  {
   "cell_type": "code",
   "execution_count": 56,
   "metadata": {},
   "outputs": [
    {
     "data": {
      "text/plain": [
       "0.95036584828004278"
      ]
     },
     "execution_count": 56,
     "metadata": {},
     "output_type": "execute_result"
    }
   ],
   "source": [
    "pca.explained_variance_ratio_.sum()"
   ]
  },
  {
   "cell_type": "code",
   "execution_count": 57,
   "metadata": {},
   "outputs": [
    {
     "data": {
      "text/plain": [
       "array([ 4,  4, 11, ...,  9,  5,  2], dtype=int32)"
      ]
     },
     "execution_count": 57,
     "metadata": {},
     "output_type": "execute_result"
    }
   ],
   "source": [
    "customers_pred = kmeans.fit_predict(cuspca)\n",
    "customers_pred"
   ]
  },
  {
   "cell_type": "markdown",
   "metadata": {},
   "source": [
    "### Step 3.3: Compare Customer Data to Demographics Data\n",
    "\n",
    "At this point, you have clustered data based on demographics of the general population of Germany, and seen how the customer data for a mail-order sales company maps onto those demographic clusters. In this final substep, you will compare the two cluster distributions to see where the strongest customer base for the company is.\n",
    "\n",
    "Consider the proportion of persons in each cluster for the general population, and the proportions for the customers. If we think the company's customer base to be universal, then the cluster assignment proportions should be fairly similar between the two. If there are only particular segments of the population that are interested in the company's products, then we should see a mismatch from one to the other. If there is a higher proportion of persons in a cluster for the customer data compared to the general population (e.g. 5% of persons are assigned to a cluster for the general population, but 15% of the customer data is closest to that cluster's centroid) then that suggests the people in that cluster to be a target audience for the company. On the other hand, the proportion of the data in a cluster being larger in the general population than the customer data (e.g. only 2% of customers closest to a population centroid that captures 6% of the data) suggests that group of persons to be outside of the target demographics.\n",
    "\n",
    "Take a look at the following points in this step:\n",
    "\n",
    "- Compute the proportion of data points in each cluster for the general population and the customer data. Visualizations will be useful here: both for the individual dataset proportions, but also to visualize the ratios in cluster representation between groups. Seaborn's [`countplot()`](https://seaborn.pydata.org/generated/seaborn.countplot.html) or [`barplot()`](https://seaborn.pydata.org/generated/seaborn.barplot.html) function could be handy.\n",
    "  - Recall the analysis you performed in step 1.1.3 of the project, where you separated out certain data points from the dataset if they had more than a specified threshold of missing values. If you found that this group was qualitatively different from the main bulk of the data, you should treat this as an additional data cluster in this analysis. Make sure that you account for the number of data points in this subset, for both the general population and customer datasets, when making your computations!\n",
    "- Which cluster or clusters are overrepresented in the customer dataset compared to the general population? Select at least one such cluster and infer what kind of people might be represented by that cluster. Use the principal component interpretations from step 2.3 or look at additional components to help you make this inference. Alternatively, you can use the `.inverse_transform()` method of the PCA and StandardScaler objects to transform centroids back to the original data space and interpret the retrieved values directly.\n",
    "- Perform a similar investigation for the underrepresented clusters. Which cluster or clusters are underrepresented in the customer dataset compared to the general population, and what kinds of people are typified by these clusters?"
   ]
  },
  {
   "cell_type": "code",
   "execution_count": 58,
   "metadata": {},
   "outputs": [
    {
     "data": {
      "text/plain": [
       "<matplotlib.axes._subplots.AxesSubplot at 0x7f88cc94f828>"
      ]
     },
     "execution_count": 58,
     "metadata": {},
     "output_type": "execute_result"
    },
    {
     "data": {
      "text/plain": [
       "<matplotlib.figure.Figure at 0x7f88cc9839e8>"
      ]
     },
     "metadata": {},
     "output_type": "display_data"
    },
    {
     "data": {
      "image/png": "[encoded data removed]",
      "text/plain": [
       "<matplotlib.figure.Figure at 0x7f88cc9839b0>"
      ]
     },
     "metadata": {
      "needs_background": "light"
     },
     "output_type": "display_data"
    }
   ],
   "source": [
    "# Compare the proportion of data in each cluster for the customer data to the\n",
    "# proportion of data in each cluster for the general population.\n",
    "\n",
    "\n",
    "fig = plt.figure()\n",
    "fig, ax = plt.subplots(2,1, figsize=(10,10))\n",
    "#ax=fig.add_axes([0,0,2,1], title='Figure 4: Demographic vs Customer distribution plot')\n",
    "#ax2=fig.add_axes([0,1.2,2,1], title='Demographic count plot')\n",
    "#ax3=fig.add_axes([0,2.4,2,1], title='Customer count plot')\n",
    "sns.set(style=\"darkgrid\")\n",
    "sns.countplot(azdias_pred, ax=ax[0])\n",
    "sns.countplot(customers_pred, ax=ax[1])\n",
    "#sns.countplot(azpca, label='demo', ax=ax2)\n",
    "#sns.countplot(cuspca, label='cust', ax=ax3)\n",
    "#ax.legend();\n",
    "\n",
    "\n"
   ]
  },
  {
   "cell_type": "code",
   "execution_count": 59,
   "metadata": {},
   "outputs": [
    {
     "data": {
      "text/html": [
       "<div>\n",
       "<style scoped>\n",
       "    .dataframe tbody tr th:only-of-type {\n",
       "        vertical-align: middle;\n",
       "    }\n",
       "\n",
       "    .dataframe tbody tr th {\n",
       "        vertical-align: top;\n",
       "    }\n",
       "\n",
       "    .dataframe thead th {\n",
       "        text-align: right;\n",
       "    }\n",
       "</style>\n",
       "<table border=\"1\" class=\"dataframe\">\n",
       "  <thead>\n",
       "    <tr style=\"text-align: right;\">\n",
       "      <th></th>\n",
       "      <th>cluster</th>\n",
       "      <th>cluster_count_x</th>\n",
       "      <th>cust_per</th>\n",
       "      <th>cluster_count_y</th>\n",
       "      <th>azd_per</th>\n",
       "      <th>diff</th>\n",
       "    </tr>\n",
       "  </thead>\n",
       "  <tbody>\n",
       "    <tr>\n",
       "      <th>0</th>\n",
       "      <td>4</td>\n",
       "      <td>19467</td>\n",
       "      <td>0.101575</td>\n",
       "      <td>58913</td>\n",
       "      <td>0.075515</td>\n",
       "      <td>0.026060</td>\n",
       "    </tr>\n",
       "    <tr>\n",
       "      <th>1</th>\n",
       "      <td>11</td>\n",
       "      <td>13476</td>\n",
       "      <td>0.070315</td>\n",
       "      <td>76272</td>\n",
       "      <td>0.097765</td>\n",
       "      <td>-0.027450</td>\n",
       "    </tr>\n",
       "    <tr>\n",
       "      <th>2</th>\n",
       "      <td>2</td>\n",
       "      <td>22703</td>\n",
       "      <td>0.118459</td>\n",
       "      <td>81022</td>\n",
       "      <td>0.103854</td>\n",
       "      <td>0.014606</td>\n",
       "    </tr>\n",
       "    <tr>\n",
       "      <th>3</th>\n",
       "      <td>0</td>\n",
       "      <td>14058</td>\n",
       "      <td>0.073352</td>\n",
       "      <td>82594</td>\n",
       "      <td>0.105869</td>\n",
       "      <td>-0.032517</td>\n",
       "    </tr>\n",
       "    <tr>\n",
       "      <th>4</th>\n",
       "      <td>9</td>\n",
       "      <td>16455</td>\n",
       "      <td>0.085859</td>\n",
       "      <td>38011</td>\n",
       "      <td>0.048722</td>\n",
       "      <td>0.037136</td>\n",
       "    </tr>\n",
       "    <tr>\n",
       "      <th>5</th>\n",
       "      <td>3</td>\n",
       "      <td>9033</td>\n",
       "      <td>0.047132</td>\n",
       "      <td>80196</td>\n",
       "      <td>0.102795</td>\n",
       "      <td>-0.055663</td>\n",
       "    </tr>\n",
       "    <tr>\n",
       "      <th>6</th>\n",
       "      <td>5</td>\n",
       "      <td>14979</td>\n",
       "      <td>0.078157</td>\n",
       "      <td>75616</td>\n",
       "      <td>0.096925</td>\n",
       "      <td>-0.018767</td>\n",
       "    </tr>\n",
       "    <tr>\n",
       "      <th>7</th>\n",
       "      <td>6</td>\n",
       "      <td>10010</td>\n",
       "      <td>0.052230</td>\n",
       "      <td>56138</td>\n",
       "      <td>0.071958</td>\n",
       "      <td>-0.019728</td>\n",
       "    </tr>\n",
       "    <tr>\n",
       "      <th>8</th>\n",
       "      <td>10</td>\n",
       "      <td>11461</td>\n",
       "      <td>0.059801</td>\n",
       "      <td>57789</td>\n",
       "      <td>0.074074</td>\n",
       "      <td>-0.014273</td>\n",
       "    </tr>\n",
       "    <tr>\n",
       "      <th>9</th>\n",
       "      <td>7</td>\n",
       "      <td>11887</td>\n",
       "      <td>0.062024</td>\n",
       "      <td>61314</td>\n",
       "      <td>0.078592</td>\n",
       "      <td>-0.016568</td>\n",
       "    </tr>\n",
       "    <tr>\n",
       "      <th>10</th>\n",
       "      <td>1</td>\n",
       "      <td>47825</td>\n",
       "      <td>0.249541</td>\n",
       "      <td>75072</td>\n",
       "      <td>0.096227</td>\n",
       "      <td>0.153314</td>\n",
       "    </tr>\n",
       "    <tr>\n",
       "      <th>11</th>\n",
       "      <td>8</td>\n",
       "      <td>298</td>\n",
       "      <td>0.001555</td>\n",
       "      <td>37216</td>\n",
       "      <td>0.047703</td>\n",
       "      <td>-0.046149</td>\n",
       "    </tr>\n",
       "  </tbody>\n",
       "</table>\n",
       "</div>"
      ],
      "text/plain": [
       "    cluster  cluster_count_x  cust_per  cluster_count_y   azd_per      diff\n",
       "0         4            19467  0.101575            58913  0.075515  0.026060\n",
       "1        11            13476  0.070315            76272  0.097765 -0.027450\n",
       "2         2            22703  0.118459            81022  0.103854  0.014606\n",
       "3         0            14058  0.073352            82594  0.105869 -0.032517\n",
       "4         9            16455  0.085859            38011  0.048722  0.037136\n",
       "5         3             9033  0.047132            80196  0.102795 -0.055663\n",
       "6         5            14979  0.078157            75616  0.096925 -0.018767\n",
       "7         6            10010  0.052230            56138  0.071958 -0.019728\n",
       "8        10            11461  0.059801            57789  0.074074 -0.014273\n",
       "9         7            11887  0.062024            61314  0.078592 -0.016568\n",
       "10        1            47825  0.249541            75072  0.096227  0.153314\n",
       "11        8              298  0.001555            37216  0.047703 -0.046149"
      ]
     },
     "execution_count": 59,
     "metadata": {},
     "output_type": "execute_result"
    }
   ],
   "source": [
    "custpred=pd.DataFrame(customers_pred,columns=['cluster'])\n",
    "custpred['cluster_count']=custpred.groupby('cluster', as_index=True)['cluster'].transform(lambda s: s.count())\n",
    "custpred['cust_per']=custpred['cluster_count']/len(custpred)\n",
    "custpred.drop_duplicates(inplace=True)\n",
    "custpred\n",
    "\n",
    "azdpred=pd.DataFrame(azdias_pred,columns=['cluster'])\n",
    "azdpred['cluster_count']=azdpred.groupby('cluster', as_index=True)['cluster'].transform(lambda s: s.count())\n",
    "azdpred['azd_per']=azdpred['cluster_count']/len(azdpred)\n",
    "azdpred.drop_duplicates(inplace=True)\n",
    "azdpred\n",
    "\n",
    "clus=pd.merge(custpred,azdpred,on='cluster')\n",
    "\n",
    "clus['diff']=clus['cust_per']-clus['azd_per']\n",
    "clus\n",
    "#custpred=custpred['cluster'].value_counts()\n",
    "#custpred.index"
   ]
  },
  {
   "cell_type": "code",
   "execution_count": 60,
   "metadata": {},
   "outputs": [
    {
     "data": {
      "text/html": [
       "<div>\n",
       "<style scoped>\n",
       "    .dataframe tbody tr th:only-of-type {\n",
       "        vertical-align: middle;\n",
       "    }\n",
       "\n",
       "    .dataframe tbody tr th {\n",
       "        vertical-align: top;\n",
       "    }\n",
       "\n",
       "    .dataframe thead th {\n",
       "        text-align: right;\n",
       "    }\n",
       "</style>\n",
       "<table border=\"1\" class=\"dataframe\">\n",
       "  <thead>\n",
       "    <tr style=\"text-align: right;\">\n",
       "      <th></th>\n",
       "      <th>ALTERSKATEGORIE_GROB</th>\n",
       "      <th>ANREDE_KZ</th>\n",
       "      <th>FINANZ_MINIMALIST</th>\n",
       "      <th>FINANZ_SPARER</th>\n",
       "      <th>FINANZ_VORSORGER</th>\n",
       "      <th>FINANZ_ANLEGER</th>\n",
       "      <th>FINANZ_UNAUFFAELLIGER</th>\n",
       "      <th>FINANZ_HAUSBAUER</th>\n",
       "      <th>GREEN_AVANTGARDE</th>\n",
       "      <th>HEALTH_TYP</th>\n",
       "      <th>...</th>\n",
       "      <th>PLZ8_ANTG4</th>\n",
       "      <th>PLZ8_HHZ</th>\n",
       "      <th>PLZ8_GBZ</th>\n",
       "      <th>ARBEIT</th>\n",
       "      <th>ORTSGR_KLS9</th>\n",
       "      <th>RELAT_AB</th>\n",
       "      <th>PRAEGENDE_JUGENDJAHR_MOVEMENT</th>\n",
       "      <th>PRAEGENDE_JUGENDJAHR_DECADE</th>\n",
       "      <th>CAMEO_INTL_2015_wealth</th>\n",
       "      <th>CAMEO_INTL_2015_life_stage</th>\n",
       "    </tr>\n",
       "  </thead>\n",
       "  <tbody>\n",
       "    <tr>\n",
       "      <th>0</th>\n",
       "      <td>3.486061</td>\n",
       "      <td>0.997397</td>\n",
       "      <td>3.592041</td>\n",
       "      <td>1.484442</td>\n",
       "      <td>4.582625</td>\n",
       "      <td>1.272876</td>\n",
       "      <td>1.738089</td>\n",
       "      <td>3.750410</td>\n",
       "      <td>0.270389</td>\n",
       "      <td>2.088657</td>\n",
       "      <td>...</td>\n",
       "      <td>1.043297</td>\n",
       "      <td>3.713633</td>\n",
       "      <td>2.952520</td>\n",
       "      <td>3.402551</td>\n",
       "      <td>6.668023</td>\n",
       "      <td>3.726090</td>\n",
       "      <td>0.269895</td>\n",
       "      <td>57.708752</td>\n",
       "      <td>2.897288</td>\n",
       "      <td>1.694686</td>\n",
       "    </tr>\n",
       "    <tr>\n",
       "      <th>1</th>\n",
       "      <td>1.690893</td>\n",
       "      <td>1.526853</td>\n",
       "      <td>2.969619</td>\n",
       "      <td>3.980415</td>\n",
       "      <td>2.967686</td>\n",
       "      <td>4.956528</td>\n",
       "      <td>4.967890</td>\n",
       "      <td>3.004773</td>\n",
       "      <td>0.013600</td>\n",
       "      <td>1.959868</td>\n",
       "      <td>...</td>\n",
       "      <td>0.542360</td>\n",
       "      <td>3.638345</td>\n",
       "      <td>3.622074</td>\n",
       "      <td>2.830876</td>\n",
       "      <td>5.125597</td>\n",
       "      <td>2.905277</td>\n",
       "      <td>0.479052</td>\n",
       "      <td>59.171396</td>\n",
       "      <td>1.607474</td>\n",
       "      <td>2.361557</td>\n",
       "    </tr>\n",
       "    <tr>\n",
       "      <th>2</th>\n",
       "      <td>3.636456</td>\n",
       "      <td>1.002147</td>\n",
       "      <td>4.895812</td>\n",
       "      <td>1.237667</td>\n",
       "      <td>4.738619</td>\n",
       "      <td>1.643648</td>\n",
       "      <td>1.646652</td>\n",
       "      <td>2.091496</td>\n",
       "      <td>0.240208</td>\n",
       "      <td>2.156363</td>\n",
       "      <td>...</td>\n",
       "      <td>0.108756</td>\n",
       "      <td>3.304571</td>\n",
       "      <td>3.922636</td>\n",
       "      <td>2.121843</td>\n",
       "      <td>3.069434</td>\n",
       "      <td>1.910930</td>\n",
       "      <td>0.233974</td>\n",
       "      <td>57.946816</td>\n",
       "      <td>1.163862</td>\n",
       "      <td>2.283489</td>\n",
       "    </tr>\n",
       "    <tr>\n",
       "      <th>3</th>\n",
       "      <td>3.418497</td>\n",
       "      <td>1.505727</td>\n",
       "      <td>2.727225</td>\n",
       "      <td>1.571079</td>\n",
       "      <td>4.514057</td>\n",
       "      <td>1.576271</td>\n",
       "      <td>1.679112</td>\n",
       "      <td>4.476730</td>\n",
       "      <td>0.080352</td>\n",
       "      <td>2.001086</td>\n",
       "      <td>...</td>\n",
       "      <td>1.495902</td>\n",
       "      <td>3.790174</td>\n",
       "      <td>2.525319</td>\n",
       "      <td>3.298447</td>\n",
       "      <td>7.069781</td>\n",
       "      <td>3.672608</td>\n",
       "      <td>0.102075</td>\n",
       "      <td>57.960277</td>\n",
       "      <td>3.189501</td>\n",
       "      <td>2.010459</td>\n",
       "    </tr>\n",
       "    <tr>\n",
       "      <th>4</th>\n",
       "      <td>3.974206</td>\n",
       "      <td>1.000167</td>\n",
       "      <td>4.947613</td>\n",
       "      <td>1.102251</td>\n",
       "      <td>4.883478</td>\n",
       "      <td>1.064815</td>\n",
       "      <td>1.794905</td>\n",
       "      <td>2.296002</td>\n",
       "      <td>0.786255</td>\n",
       "      <td>1.094886</td>\n",
       "      <td>...</td>\n",
       "      <td>0.436916</td>\n",
       "      <td>3.720786</td>\n",
       "      <td>3.877250</td>\n",
       "      <td>2.638040</td>\n",
       "      <td>4.843143</td>\n",
       "      <td>2.690078</td>\n",
       "      <td>0.806715</td>\n",
       "      <td>52.362192</td>\n",
       "      <td>0.965723</td>\n",
       "      <td>2.788801</td>\n",
       "    </tr>\n",
       "    <tr>\n",
       "      <th>5</th>\n",
       "      <td>3.626778</td>\n",
       "      <td>1.993033</td>\n",
       "      <td>4.170721</td>\n",
       "      <td>1.451812</td>\n",
       "      <td>4.556062</td>\n",
       "      <td>2.280607</td>\n",
       "      <td>1.881916</td>\n",
       "      <td>2.686967</td>\n",
       "      <td>0.205761</td>\n",
       "      <td>1.898797</td>\n",
       "      <td>...</td>\n",
       "      <td>0.201692</td>\n",
       "      <td>3.408802</td>\n",
       "      <td>3.895132</td>\n",
       "      <td>2.288654</td>\n",
       "      <td>3.355770</td>\n",
       "      <td>2.117067</td>\n",
       "      <td>0.227148</td>\n",
       "      <td>60.634356</td>\n",
       "      <td>1.324352</td>\n",
       "      <td>2.314649</td>\n",
       "    </tr>\n",
       "    <tr>\n",
       "      <th>6</th>\n",
       "      <td>2.594377</td>\n",
       "      <td>1.170380</td>\n",
       "      <td>4.119675</td>\n",
       "      <td>2.763952</td>\n",
       "      <td>3.258577</td>\n",
       "      <td>3.007089</td>\n",
       "      <td>3.248780</td>\n",
       "      <td>1.389735</td>\n",
       "      <td>0.310838</td>\n",
       "      <td>2.199866</td>\n",
       "      <td>...</td>\n",
       "      <td>0.340104</td>\n",
       "      <td>3.610494</td>\n",
       "      <td>3.873396</td>\n",
       "      <td>2.505089</td>\n",
       "      <td>4.142194</td>\n",
       "      <td>2.463182</td>\n",
       "      <td>0.361883</td>\n",
       "      <td>79.176164</td>\n",
       "      <td>1.278770</td>\n",
       "      <td>2.177826</td>\n",
       "    </tr>\n",
       "    <tr>\n",
       "      <th>7</th>\n",
       "      <td>2.810910</td>\n",
       "      <td>1.041889</td>\n",
       "      <td>4.894949</td>\n",
       "      <td>1.388182</td>\n",
       "      <td>4.565104</td>\n",
       "      <td>1.294056</td>\n",
       "      <td>1.900752</td>\n",
       "      <td>1.972317</td>\n",
       "      <td>0.821959</td>\n",
       "      <td>2.432068</td>\n",
       "      <td>...</td>\n",
       "      <td>0.436427</td>\n",
       "      <td>3.808562</td>\n",
       "      <td>3.941449</td>\n",
       "      <td>2.674527</td>\n",
       "      <td>5.113052</td>\n",
       "      <td>2.713175</td>\n",
       "      <td>0.817701</td>\n",
       "      <td>61.063879</td>\n",
       "      <td>0.840542</td>\n",
       "      <td>2.784712</td>\n",
       "    </tr>\n",
       "    <tr>\n",
       "      <th>8</th>\n",
       "      <td>3.696254</td>\n",
       "      <td>1.501792</td>\n",
       "      <td>2.625110</td>\n",
       "      <td>1.090649</td>\n",
       "      <td>4.909427</td>\n",
       "      <td>1.106300</td>\n",
       "      <td>1.075334</td>\n",
       "      <td>4.494017</td>\n",
       "      <td>0.191529</td>\n",
       "      <td>1.694710</td>\n",
       "      <td>...</td>\n",
       "      <td>1.193326</td>\n",
       "      <td>4.242075</td>\n",
       "      <td>2.698101</td>\n",
       "      <td>3.022235</td>\n",
       "      <td>6.781206</td>\n",
       "      <td>3.327746</td>\n",
       "      <td>0.207190</td>\n",
       "      <td>47.173286</td>\n",
       "      <td>3.934187</td>\n",
       "      <td>3.818152</td>\n",
       "    </tr>\n",
       "    <tr>\n",
       "      <th>9</th>\n",
       "      <td>3.667838</td>\n",
       "      <td>0.990460</td>\n",
       "      <td>4.920054</td>\n",
       "      <td>1.167509</td>\n",
       "      <td>4.777292</td>\n",
       "      <td>1.129695</td>\n",
       "      <td>1.737354</td>\n",
       "      <td>2.159060</td>\n",
       "      <td>0.852202</td>\n",
       "      <td>2.158094</td>\n",
       "      <td>...</td>\n",
       "      <td>0.516549</td>\n",
       "      <td>3.746788</td>\n",
       "      <td>3.732091</td>\n",
       "      <td>3.431240</td>\n",
       "      <td>6.381111</td>\n",
       "      <td>3.650572</td>\n",
       "      <td>0.843493</td>\n",
       "      <td>55.474773</td>\n",
       "      <td>1.394701</td>\n",
       "      <td>2.659060</td>\n",
       "    </tr>\n",
       "    <tr>\n",
       "      <th>10</th>\n",
       "      <td>3.506838</td>\n",
       "      <td>2.010658</td>\n",
       "      <td>2.852011</td>\n",
       "      <td>1.527590</td>\n",
       "      <td>4.587404</td>\n",
       "      <td>1.832769</td>\n",
       "      <td>1.817313</td>\n",
       "      <td>4.532107</td>\n",
       "      <td>0.170803</td>\n",
       "      <td>1.860236</td>\n",
       "      <td>...</td>\n",
       "      <td>1.009372</td>\n",
       "      <td>3.730712</td>\n",
       "      <td>3.016295</td>\n",
       "      <td>3.377767</td>\n",
       "      <td>6.567870</td>\n",
       "      <td>3.683613</td>\n",
       "      <td>0.195437</td>\n",
       "      <td>57.532141</td>\n",
       "      <td>2.901275</td>\n",
       "      <td>1.819617</td>\n",
       "    </tr>\n",
       "    <tr>\n",
       "      <th>11</th>\n",
       "      <td>3.648621</td>\n",
       "      <td>2.017378</td>\n",
       "      <td>4.356935</td>\n",
       "      <td>1.209558</td>\n",
       "      <td>4.763055</td>\n",
       "      <td>1.543540</td>\n",
       "      <td>1.824591</td>\n",
       "      <td>2.787770</td>\n",
       "      <td>0.922410</td>\n",
       "      <td>1.944954</td>\n",
       "      <td>...</td>\n",
       "      <td>0.471615</td>\n",
       "      <td>3.753641</td>\n",
       "      <td>3.811426</td>\n",
       "      <td>3.074876</td>\n",
       "      <td>5.912816</td>\n",
       "      <td>3.203692</td>\n",
       "      <td>0.937388</td>\n",
       "      <td>57.015102</td>\n",
       "      <td>1.096036</td>\n",
       "      <td>2.781554</td>\n",
       "    </tr>\n",
       "  </tbody>\n",
       "</table>\n",
       "<p>12 rows × 64 columns</p>\n",
       "</div>"
      ],
      "text/plain": [
       "    ALTERSKATEGORIE_GROB  ANREDE_KZ  FINANZ_MINIMALIST  FINANZ_SPARER  \\\n",
       "0               3.486061   0.997397           3.592041       1.484442   \n",
       "1               1.690893   1.526853           2.969619       3.980415   \n",
       "2               3.636456   1.002147           4.895812       1.237667   \n",
       "3               3.418497   1.505727           2.727225       1.571079   \n",
       "4               3.974206   1.000167           4.947613       1.102251   \n",
       "5               3.626778   1.993033           4.170721       1.451812   \n",
       "6               2.594377   1.170380           4.119675       2.763952   \n",
       "7               2.810910   1.041889           4.894949       1.388182   \n",
       "8               3.696254   1.501792           2.625110       1.090649   \n",
       "9               3.667838   0.990460           4.920054       1.167509   \n",
       "10              3.506838   2.010658           2.852011       1.527590   \n",
       "11              3.648621   2.017378           4.356935       1.209558   \n",
       "\n",
       "    FINANZ_VORSORGER  FINANZ_ANLEGER  FINANZ_UNAUFFAELLIGER  FINANZ_HAUSBAUER  \\\n",
       "0           4.582625        1.272876               1.738089          3.750410   \n",
       "1           2.967686        4.956528               4.967890          3.004773   \n",
       "2           4.738619        1.643648               1.646652          2.091496   \n",
       "3           4.514057        1.576271               1.679112          4.476730   \n",
       "4           4.883478        1.064815               1.794905          2.296002   \n",
       "5           4.556062        2.280607               1.881916          2.686967   \n",
       "6           3.258577        3.007089               3.248780          1.389735   \n",
       "7           4.565104        1.294056               1.900752          1.972317   \n",
       "8           4.909427        1.106300               1.075334          4.494017   \n",
       "9           4.777292        1.129695               1.737354          2.159060   \n",
       "10          4.587404        1.832769               1.817313          4.532107   \n",
       "11          4.763055        1.543540               1.824591          2.787770   \n",
       "\n",
       "    GREEN_AVANTGARDE  HEALTH_TYP             ...              PLZ8_ANTG4  \\\n",
       "0           0.270389    2.088657             ...                1.043297   \n",
       "1           0.013600    1.959868             ...                0.542360   \n",
       "2           0.240208    2.156363             ...                0.108756   \n",
       "3           0.080352    2.001086             ...                1.495902   \n",
       "4           0.786255    1.094886             ...                0.436916   \n",
       "5           0.205761    1.898797             ...                0.201692   \n",
       "6           0.310838    2.199866             ...                0.340104   \n",
       "7           0.821959    2.432068             ...                0.436427   \n",
       "8           0.191529    1.694710             ...                1.193326   \n",
       "9           0.852202    2.158094             ...                0.516549   \n",
       "10          0.170803    1.860236             ...                1.009372   \n",
       "11          0.922410    1.944954             ...                0.471615   \n",
       "\n",
       "    PLZ8_HHZ  PLZ8_GBZ    ARBEIT  ORTSGR_KLS9  RELAT_AB  \\\n",
       "0   3.713633  2.952520  3.402551     6.668023  3.726090   \n",
       "1   3.638345  3.622074  2.830876     5.125597  2.905277   \n",
       "2   3.304571  3.922636  2.121843     3.069434  1.910930   \n",
       "3   3.790174  2.525319  3.298447     7.069781  3.672608   \n",
       "4   3.720786  3.877250  2.638040     4.843143  2.690078   \n",
       "5   3.408802  3.895132  2.288654     3.355770  2.117067   \n",
       "6   3.610494  3.873396  2.505089     4.142194  2.463182   \n",
       "7   3.808562  3.941449  2.674527     5.113052  2.713175   \n",
       "8   4.242075  2.698101  3.022235     6.781206  3.327746   \n",
       "9   3.746788  3.732091  3.431240     6.381111  3.650572   \n",
       "10  3.730712  3.016295  3.377767     6.567870  3.683613   \n",
       "11  3.753641  3.811426  3.074876     5.912816  3.203692   \n",
       "\n",
       "    PRAEGENDE_JUGENDJAHR_MOVEMENT  PRAEGENDE_JUGENDJAHR_DECADE  \\\n",
       "0                        0.269895                    57.708752   \n",
       "1                        0.479052                    59.171396   \n",
       "2                        0.233974                    57.946816   \n",
       "3                        0.102075                    57.960277   \n",
       "4                        0.806715                    52.362192   \n",
       "5                        0.227148                    60.634356   \n",
       "6                        0.361883                    79.176164   \n",
       "7                        0.817701                    61.063879   \n",
       "8                        0.207190                    47.173286   \n",
       "9                        0.843493                    55.474773   \n",
       "10                       0.195437                    57.532141   \n",
       "11                       0.937388                    57.015102   \n",
       "\n",
       "    CAMEO_INTL_2015_wealth  CAMEO_INTL_2015_life_stage  \n",
       "0                 2.897288                    1.694686  \n",
       "1                 1.607474                    2.361557  \n",
       "2                 1.163862                    2.283489  \n",
       "3                 3.189501                    2.010459  \n",
       "4                 0.965723                    2.788801  \n",
       "5                 1.324352                    2.314649  \n",
       "6                 1.278770                    2.177826  \n",
       "7                 0.840542                    2.784712  \n",
       "8                 3.934187                    3.818152  \n",
       "9                 1.394701                    2.659060  \n",
       "10                2.901275                    1.819617  \n",
       "11                1.096036                    2.781554  \n",
       "\n",
       "[12 rows x 64 columns]"
      ]
     },
     "execution_count": 60,
     "metadata": {},
     "output_type": "execute_result"
    }
   ],
   "source": [
    "cluster_specs = pd.DataFrame(scaler.inverse_transform(pca.inverse_transform(kmeans.cluster_centers_)), columns=azdias.columns)\n",
    "cluster_specs"
   ]
  },
  {
   "cell_type": "code",
   "execution_count": 61,
   "metadata": {},
   "outputs": [
    {
     "data": {
      "text/html": [
       "<div>\n",
       "<style scoped>\n",
       "    .dataframe tbody tr th:only-of-type {\n",
       "        vertical-align: middle;\n",
       "    }\n",
       "\n",
       "    .dataframe tbody tr th {\n",
       "        vertical-align: top;\n",
       "    }\n",
       "\n",
       "    .dataframe thead th {\n",
       "        text-align: right;\n",
       "    }\n",
       "</style>\n",
       "<table border=\"1\" class=\"dataframe\">\n",
       "  <thead>\n",
       "    <tr style=\"text-align: right;\">\n",
       "      <th></th>\n",
       "      <th>cluster</th>\n",
       "      <th>diff</th>\n",
       "    </tr>\n",
       "  </thead>\n",
       "  <tbody>\n",
       "    <tr>\n",
       "      <th>0</th>\n",
       "      <td>4</td>\n",
       "      <td>0.026060</td>\n",
       "    </tr>\n",
       "    <tr>\n",
       "      <th>2</th>\n",
       "      <td>2</td>\n",
       "      <td>0.014606</td>\n",
       "    </tr>\n",
       "    <tr>\n",
       "      <th>4</th>\n",
       "      <td>9</td>\n",
       "      <td>0.037136</td>\n",
       "    </tr>\n",
       "    <tr>\n",
       "      <th>10</th>\n",
       "      <td>1</td>\n",
       "      <td>0.153314</td>\n",
       "    </tr>\n",
       "  </tbody>\n",
       "</table>\n",
       "</div>"
      ],
      "text/plain": [
       "    cluster      diff\n",
       "0         4  0.026060\n",
       "2         2  0.014606\n",
       "4         9  0.037136\n",
       "10        1  0.153314"
      ]
     },
     "execution_count": 61,
     "metadata": {},
     "output_type": "execute_result"
    }
   ],
   "source": [
    "# What kinds of people are part of a cluster that is overrepresented in the\n",
    "# customer data compared to the general population?\n",
    "clus.loc[clus['diff']>0,['cluster','diff']]"
   ]
  },
  {
   "cell_type": "code",
   "execution_count": 62,
   "metadata": {},
   "outputs": [
    {
     "data": {
      "text/plain": [
       "MIN_GEBAEUDEJAHR                 1993.037331\n",
       "KBA13_ANZAHL_PKW                  699.871978\n",
       "PRAEGENDE_JUGENDJAHR_DECADE        57.946816\n",
       "WOHNDAUER_2008                      8.854916\n",
       "INNENSTADT                          6.170621\n",
       "SEMIO_VERT                          6.090890\n",
       "BALLRAUM                            5.688366\n",
       "SEMIO_LUST                          5.499310\n",
       "REGIOTYP                            4.916907\n",
       "FINANZ_MINIMALIST                   4.895812\n",
       "SEMIO_ERL                           4.777341\n",
       "SEMIO_SOZ                           4.749520\n",
       "FINANZ_VORSORGER                    4.738619\n",
       "SEMIO_KULT                          4.721621\n",
       "SEMIO_FAM                           4.464479\n",
       "MOBI_REGIO                          4.347961\n",
       "KBA05_GBZ                           4.209095\n",
       "GEBAEUDETYP_RASTER                  4.072332\n",
       "KONSUMNAEHE                         4.055656\n",
       "W_KEIT_KIND_HH                      4.016451\n",
       "PLZ8_GBZ                            3.922636\n",
       "RETOURTYP_BK_S                      3.716678\n",
       "ALTERSKATEGORIE_GROB                3.636456\n",
       "SEMIO_REL                           3.383972\n",
       "PLZ8_HHZ                            3.304571\n",
       "HH_EINKOMMEN_SCORE                  3.166141\n",
       "PLZ8_ANTG1                          3.151757\n",
       "KKK                                 3.077765\n",
       "ONLINE_AFFINITAET                   3.072849\n",
       "ORTSGR_KLS9                         3.069434\n",
       "                                    ...     \n",
       "SEMIO_PFLICHT                       2.820064\n",
       "SEMIO_KAEM                          2.749340\n",
       "ANZ_PERSONEN                        2.638396\n",
       "SEMIO_MAT                           2.483193\n",
       "SEMIO_RAT                           2.469376\n",
       "EWDICHTE                            2.292845\n",
       "CAMEO_INTL_2015_life_stage          2.283489\n",
       "HEALTH_TYP                          2.156363\n",
       "PLZ8_ANTG2                          2.147732\n",
       "ARBEIT                              2.121843\n",
       "FINANZ_HAUSBAUER                    2.091496\n",
       "RELAT_AB                            1.910930\n",
       "ANZ_HAUSHALTE_AKTIV                 1.679736\n",
       "FINANZ_UNAUFFAELLIGER               1.646652\n",
       "FINANZ_ANLEGER                      1.643648\n",
       "VERS_TYP                            1.511187\n",
       "FINANZ_SPARER                       1.237667\n",
       "CAMEO_INTL_2015_wealth              1.163862\n",
       "ANREDE_KZ                           1.002147\n",
       "KBA05_ANTG2                         0.984208\n",
       "OST_WEST_KZ                         0.957630\n",
       "PLZ8_ANTG3                          0.677187\n",
       "GREEN_AVANTGARDE                    0.240208\n",
       "PRAEGENDE_JUGENDJAHR_MOVEMENT       0.233974\n",
       "PLZ8_ANTG4                          0.108756\n",
       "KBA05_ANTG3                         0.051114\n",
       "KBA05_ANTG4                         0.013110\n",
       "SOHO_KZ                             0.010223\n",
       "ANZ_HH_TITEL                        0.008750\n",
       "ANZ_TITEL                           0.006579\n",
       "Name: 2, Length: 64, dtype: float64"
      ]
     },
     "execution_count": 62,
     "metadata": {},
     "output_type": "execute_result"
    }
   ],
   "source": [
    "cluster_specs.loc[2].sort_values(ascending=False)"
   ]
  },
  {
   "cell_type": "code",
   "execution_count": 63,
   "metadata": {},
   "outputs": [
    {
     "data": {
      "text/plain": [
       "SEMIO_KULT                       0.335576\n",
       "SEMIO_FAM                        0.280880\n",
       "SEMIO_MAT                        0.236007\n",
       "SEMIO_REL                        0.199426\n",
       "SEMIO_TRADV                      0.191312\n",
       "SEMIO_VERT                       0.160295\n",
       "SEMIO_SOZ                        0.157975\n",
       "EWDICHTE                         0.154945\n",
       "ORTSGR_KLS9                      0.146056\n",
       "PRAEGENDE_JUGENDJAHR_MOVEMENT    0.129355\n",
       "PLZ8_ANTG3                       0.119540\n",
       "SEMIO_PFLICHT                    0.115672\n",
       "GREEN_AVANTGARDE                 0.104476\n",
       "PLZ8_ANTG2                       0.099341\n",
       "PLZ8_ANTG4                       0.099136\n",
       "RELAT_AB                         0.094997\n",
       "ONLINE_AFFINITAET                0.093795\n",
       "ARBEIT                           0.093583\n",
       "PRAEGENDE_JUGENDJAHR_DECADE      0.091581\n",
       "FINANZ_SPARER                    0.080071\n",
       "FINANZ_UNAUFFAELLIGER            0.072781\n",
       "ANZ_PERSONEN                     0.069819\n",
       "PLZ8_HHZ                         0.044763\n",
       "FINANZ_MINIMALIST                0.043755\n",
       "RETOURTYP_BK_S                   0.041987\n",
       "SEMIO_RAT                        0.034247\n",
       "ANZ_TITEL                        0.032891\n",
       "KBA05_ANTG2                      0.031310\n",
       "HEALTH_TYP                       0.024029\n",
       "MIN_GEBAEUDEJAHR                 0.019477\n",
       "                                   ...   \n",
       "FINANZ_ANLEGER                  -0.004344\n",
       "CAMEO_INTL_2015_wealth          -0.005333\n",
       "CAMEO_INTL_2015_life_stage      -0.007532\n",
       "ANZ_HAUSHALTE_AKTIV             -0.008501\n",
       "OST_WEST_KZ                     -0.011911\n",
       "WOHNDAUER_2008                  -0.015769\n",
       "KBA05_GBZ                       -0.019084\n",
       "KBA13_ANZAHL_PKW                -0.020207\n",
       "KBA05_ANTG1                     -0.021930\n",
       "MOBI_REGIO                      -0.029376\n",
       "PLZ8_GBZ                        -0.047660\n",
       "GEBAEUDETYP_RASTER              -0.047973\n",
       "VERS_TYP                        -0.049798\n",
       "W_KEIT_KIND_HH                  -0.081806\n",
       "HH_EINKOMMEN_SCORE              -0.089336\n",
       "KONSUMNAEHE                     -0.090276\n",
       "SEMIO_LUST                      -0.090492\n",
       "FINANZ_VORSORGER                -0.097419\n",
       "PLZ8_ANTG1                      -0.098042\n",
       "REGIOTYP                        -0.106142\n",
       "ALTERSKATEGORIE_GROB            -0.112683\n",
       "FINANZ_HAUSBAUER                -0.113184\n",
       "BALLRAUM                        -0.120199\n",
       "INNENSTADT                      -0.128046\n",
       "KKK                             -0.130733\n",
       "SEMIO_DOM                       -0.153363\n",
       "SEMIO_KRIT                      -0.186063\n",
       "SEMIO_KAEM                      -0.238661\n",
       "ANREDE_KZ                       -0.292830\n",
       "SEMIO_ERL                       -0.313635\n",
       "Name: 2, Length: 64, dtype: float64"
      ]
     },
     "execution_count": 63,
     "metadata": {},
     "output_type": "execute_result"
    }
   ],
   "source": [
    "weights(2,pca)"
   ]
  },
  {
   "cell_type": "code",
   "execution_count": 64,
   "metadata": {},
   "outputs": [
    {
     "data": {
      "text/html": [
       "<div>\n",
       "<style scoped>\n",
       "    .dataframe tbody tr th:only-of-type {\n",
       "        vertical-align: middle;\n",
       "    }\n",
       "\n",
       "    .dataframe tbody tr th {\n",
       "        vertical-align: top;\n",
       "    }\n",
       "\n",
       "    .dataframe thead th {\n",
       "        text-align: right;\n",
       "    }\n",
       "</style>\n",
       "<table border=\"1\" class=\"dataframe\">\n",
       "  <thead>\n",
       "    <tr style=\"text-align: right;\">\n",
       "      <th></th>\n",
       "      <th>cluster</th>\n",
       "      <th>diff</th>\n",
       "    </tr>\n",
       "  </thead>\n",
       "  <tbody>\n",
       "    <tr>\n",
       "      <th>1</th>\n",
       "      <td>11</td>\n",
       "      <td>-0.027450</td>\n",
       "    </tr>\n",
       "    <tr>\n",
       "      <th>3</th>\n",
       "      <td>0</td>\n",
       "      <td>-0.032517</td>\n",
       "    </tr>\n",
       "    <tr>\n",
       "      <th>5</th>\n",
       "      <td>3</td>\n",
       "      <td>-0.055663</td>\n",
       "    </tr>\n",
       "    <tr>\n",
       "      <th>6</th>\n",
       "      <td>5</td>\n",
       "      <td>-0.018767</td>\n",
       "    </tr>\n",
       "    <tr>\n",
       "      <th>7</th>\n",
       "      <td>6</td>\n",
       "      <td>-0.019728</td>\n",
       "    </tr>\n",
       "    <tr>\n",
       "      <th>8</th>\n",
       "      <td>10</td>\n",
       "      <td>-0.014273</td>\n",
       "    </tr>\n",
       "    <tr>\n",
       "      <th>9</th>\n",
       "      <td>7</td>\n",
       "      <td>-0.016568</td>\n",
       "    </tr>\n",
       "    <tr>\n",
       "      <th>11</th>\n",
       "      <td>8</td>\n",
       "      <td>-0.046149</td>\n",
       "    </tr>\n",
       "  </tbody>\n",
       "</table>\n",
       "</div>"
      ],
      "text/plain": [
       "    cluster      diff\n",
       "1        11 -0.027450\n",
       "3         0 -0.032517\n",
       "5         3 -0.055663\n",
       "6         5 -0.018767\n",
       "7         6 -0.019728\n",
       "8        10 -0.014273\n",
       "9         7 -0.016568\n",
       "11        8 -0.046149"
      ]
     },
     "execution_count": 64,
     "metadata": {},
     "output_type": "execute_result"
    }
   ],
   "source": [
    "# What kinds of people are part of a cluster that is underrepresented in the\n",
    "# customer data compared to the general population?\n",
    "clus.loc[clus['diff']<0,['cluster','diff']]"
   ]
  },
  {
   "cell_type": "code",
   "execution_count": 65,
   "metadata": {},
   "outputs": [
    {
     "data": {
      "text/plain": [
       "MIN_GEBAEUDEJAHR                 1992.645821\n",
       "KBA13_ANZAHL_PKW                  677.567366\n",
       "PRAEGENDE_JUGENDJAHR_DECADE        57.015102\n",
       "WOHNDAUER_2008                      8.804288\n",
       "SEMIO_ERL                           6.741487\n",
       "ORTSGR_KLS9                         5.912816\n",
       "SEMIO_LUST                          5.895694\n",
       "SEMIO_KRIT                          5.882831\n",
       "SEMIO_KAEM                          5.844147\n",
       "SEMIO_DOM                           5.799873\n",
       "FINANZ_VORSORGER                    4.763055\n",
       "EWDICHTE                            4.437615\n",
       "W_KEIT_KIND_HH                      4.391838\n",
       "FINANZ_MINIMALIST                   4.356935\n",
       "INNENSTADT                          4.314254\n",
       "MOBI_REGIO                          4.126316\n",
       "KBA05_GBZ                           4.043988\n",
       "GEBAEUDETYP_RASTER                  3.986984\n",
       "PLZ8_GBZ                            3.811426\n",
       "BALLRAUM                            3.765849\n",
       "PLZ8_HHZ                            3.753641\n",
       "RETOURTYP_BK_S                      3.727796\n",
       "ALTERSKATEGORIE_GROB                3.648621\n",
       "SEMIO_SOZ                           3.339211\n",
       "SEMIO_VERT                          3.252942\n",
       "RELAT_AB                            3.203692\n",
       "REGIOTYP                            3.191634\n",
       "KONSUMNAEHE                         3.091016\n",
       "SEMIO_RAT                           3.086885\n",
       "ARBEIT                              3.074876\n",
       "                                    ...     \n",
       "CAMEO_INTL_2015_life_stage          2.781554\n",
       "PLZ8_ANTG2                          2.741131\n",
       "PLZ8_ANTG1                          2.649641\n",
       "SEMIO_TRADV                         2.351156\n",
       "SEMIO_MAT                           2.273710\n",
       "HH_EINKOMMEN_SCORE                  2.244345\n",
       "ANZ_PERSONEN                        2.220575\n",
       "SEMIO_FAM                           2.162122\n",
       "ANREDE_KZ                           2.017378\n",
       "KKK                                 1.958972\n",
       "HEALTH_TYP                          1.944954\n",
       "FINANZ_UNAUFFAELLIGER               1.824591\n",
       "SEMIO_REL                           1.797852\n",
       "VERS_TYP                            1.680117\n",
       "SEMIO_KULT                          1.641658\n",
       "ANZ_HAUSHALTE_AKTIV                 1.604479\n",
       "FINANZ_ANLEGER                      1.543540\n",
       "PLZ8_ANTG3                          1.381918\n",
       "FINANZ_SPARER                       1.209558\n",
       "KBA05_ANTG2                         1.193274\n",
       "CAMEO_INTL_2015_wealth              1.096036\n",
       "OST_WEST_KZ                         0.948612\n",
       "PRAEGENDE_JUGENDJAHR_MOVEMENT       0.937388\n",
       "GREEN_AVANTGARDE                    0.922410\n",
       "PLZ8_ANTG4                          0.471615\n",
       "KBA05_ANTG3                         0.050477\n",
       "ANZ_HH_TITEL                        0.036056\n",
       "ANZ_TITEL                           0.028873\n",
       "KBA05_ANTG4                         0.011839\n",
       "SOHO_KZ                             0.007918\n",
       "Name: 11, Length: 64, dtype: float64"
      ]
     },
     "execution_count": 65,
     "metadata": {},
     "output_type": "execute_result"
    }
   ],
   "source": [
    "cluster_specs.loc[11].sort_values(ascending=False)"
   ]
  },
  {
   "cell_type": "code",
   "execution_count": 66,
   "metadata": {},
   "outputs": [
    {
     "data": {
      "text/plain": [
       "ANZ_TITEL                        0.365923\n",
       "KBA05_ANTG2                      0.352058\n",
       "ANZ_HH_TITEL                     0.320564\n",
       "ARBEIT                           0.268278\n",
       "KBA05_ANTG3                      0.247929\n",
       "GEBAEUDETYP_RASTER               0.213807\n",
       "KONSUMNAEHE                      0.181363\n",
       "CAMEO_INTL_2015_life_stage       0.179244\n",
       "FINANZ_HAUSBAUER                 0.162573\n",
       "PLZ8_GBZ                         0.154012\n",
       "RELAT_AB                         0.139222\n",
       "ANZ_PERSONEN                     0.132568\n",
       "PLZ8_ANTG1                       0.129410\n",
       "HH_EINKOMMEN_SCORE               0.126969\n",
       "ANZ_HAUSHALTE_AKTIV              0.086925\n",
       "SEMIO_MAT                        0.071859\n",
       "SEMIO_RAT                        0.059599\n",
       "ONLINE_AFFINITAET                0.047926\n",
       "ORTSGR_KLS9                      0.047762\n",
       "SEMIO_TRADV                      0.042292\n",
       "WOHNDAUER_2008                   0.040061\n",
       "BALLRAUM                         0.030020\n",
       "KBA13_ANZAHL_PKW                 0.016824\n",
       "ANREDE_KZ                        0.015202\n",
       "SEMIO_REL                        0.014642\n",
       "PLZ8_HHZ                         0.013526\n",
       "SEMIO_KULT                       0.009112\n",
       "FINANZ_ANLEGER                   0.007128\n",
       "FINANZ_VORSORGER                 0.006888\n",
       "SOHO_KZ                          0.005959\n",
       "                                   ...   \n",
       "KKK                             -0.003608\n",
       "SEMIO_FAM                       -0.004224\n",
       "SEMIO_DOM                       -0.004416\n",
       "INNENSTADT                      -0.006942\n",
       "SEMIO_KAEM                      -0.010075\n",
       "EWDICHTE                        -0.010315\n",
       "ALTERSKATEGORIE_GROB            -0.014008\n",
       "RETOURTYP_BK_S                  -0.014927\n",
       "FINANZ_SPARER                   -0.022720\n",
       "KBA05_GBZ                       -0.024765\n",
       "SEMIO_LUST                      -0.025655\n",
       "PRAEGENDE_JUGENDJAHR_DECADE     -0.028675\n",
       "SEMIO_KRIT                      -0.029974\n",
       "CAMEO_INTL_2015_wealth          -0.033459\n",
       "VERS_TYP                        -0.034356\n",
       "GREEN_AVANTGARDE                -0.040463\n",
       "HEALTH_TYP                      -0.042270\n",
       "REGIOTYP                        -0.043098\n",
       "PLZ8_ANTG2                      -0.049685\n",
       "MOBI_REGIO                      -0.049899\n",
       "PRAEGENDE_JUGENDJAHR_MOVEMENT   -0.054007\n",
       "FINANZ_MINIMALIST               -0.062230\n",
       "FINANZ_UNAUFFAELLIGER           -0.062880\n",
       "MIN_GEBAEUDEJAHR                -0.068170\n",
       "W_KEIT_KIND_HH                  -0.098391\n",
       "PLZ8_ANTG3                      -0.135100\n",
       "KBA05_ANTG1                     -0.147324\n",
       "PLZ8_ANTG4                      -0.224546\n",
       "OST_WEST_KZ                     -0.233648\n",
       "KBA05_ANTG4                     -0.249222\n",
       "Name: 11, Length: 64, dtype: float64"
      ]
     },
     "execution_count": 66,
     "metadata": {},
     "output_type": "execute_result"
    }
   ],
   "source": [
    "weights(11,pca)"
   ]
  },
  {
   "cell_type": "markdown",
   "metadata": {},
   "source": [
    "### Discussion 3.3: Compare Customer Data to Demographics Data\n",
    "\n",
    "(Double-click this cell and replace this text with your own text, reporting findings and conclusions from the clustering analysis. Can we describe segments of the population that are relatively popular with the mail-order company, or relatively unpopular with the company?)"
   ]
  },
  {
   "cell_type": "markdown",
   "metadata": {},
   "source": [
    "> Congratulations on making it this far in the project! Before you finish, make sure to check through the entire notebook from top to bottom to make sure that your analysis follows a logical flow and all of your findings are documented in **Discussion** cells. Once you've checked over all of your work, you should export the notebook as an HTML document to submit for evaluation. You can do this from the menu, navigating to **File -> Download as -> HTML (.html)**. You will submit both that document and this notebook for your project submission."
   ]
  },
  {
   "cell_type": "code",
   "execution_count": null,
   "metadata": {},
   "outputs": [],
   "source": []
  },
  {
   "cell_type": "code",
   "execution_count": null,
   "metadata": {},
   "outputs": [],
   "source": []
  }
 ],
 "metadata": {
  "kernelspec": {
   "display_name": "Python 3",
   "language": "python",
   "name": "python3"
  },
  "language_info": {
   "codemirror_mode": {
    "name": "ipython",
    "version": 3
   },
   "file_extension": ".py",
   "mimetype": "text/x-python",
   "name": "python",
   "nbconvert_exporter": "python",
   "pygments_lexer": "ipython3",
   "version": "3.6.3"
  }
 },
 "nbformat": 4,
 "nbformat_minor": 2
}
